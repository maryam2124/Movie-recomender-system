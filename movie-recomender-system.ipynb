{
 "cells": [
  {
   "cell_type": "markdown",
   "id": "a132be1e",
   "metadata": {
    "papermill": {
     "duration": 0.008711,
     "end_time": "2025-07-23T15:53:42.131451",
     "exception": false,
     "start_time": "2025-07-23T15:53:42.122740",
     "status": "completed"
    },
    "tags": []
   },
   "source": [
    "<h2 style=\"font-weight:bold; text-align:center; padding:20px; border:4px solid yellow; border-radius:30px; background-color:#fffde7;\">\n",
    "🎬 IMDb 5000+ Movies Dataset Analysis\n",
    "</h2>\n",
    "\n",
    "<p align=\"center\">\n",
    "  <img src=\"https://cdn.pixabay.com/photo/2016/03/31/19/14/popcorn-1295546_1280.png\" alt=\"Movies Banner\" width=\"600\"/>\n",
    "</p>\n",
    "\n",
    "---\n",
    "\n",
    "### 📌 <span style=\"font-weight:bold; border-bottom: 3px solid yellow;\">About the Dataset</span>\n",
    "\n",
    "The <strong>TMDB 5000+ Movies Dataset</strong> contains detailed information from two CSV files:\n",
    "- `tmdb_5000_movies.csv`\n",
    "- `tmdb_5000_credits.csv`\n",
    "\n",
    "It includes:\n",
    "\n",
    "- 🎥 Movie titles  \n",
    "- ⭐ IMDb-style ratings  \n",
    "- 📅 Release years  \n",
    "- 🎭 Genres  \n",
    "- 🧑‍🤝‍🧑 Cast & Crew  \n",
    "- 💰 Budget and Revenue  \n",
    "- 🏆 Taglines and Production Data  \n",
    "\n",
    "---\n",
    "\n",
    "### 📂 Dataset Columns Preview\n",
    "\n",
    "#### `tmdb_5000_movies.csv`\n",
    "\n",
    "| Column Name        | Description                            |\n",
    "|--------------------|----------------------------------------|\n",
    "| `title`            | Movie name                             |\n",
    "| `release_date`     | Release date                           |\n",
    "| `budget`           | Estimated budget                       |\n",
    "| `revenue`          | Gross worldwide revenue                |\n",
    "| `genres`           | Main genres (JSON format)              |\n",
    "| `overview`         | Movie summary                          |\n",
    "| `original_language`| Language of the movie                  |\n",
    "| `runtime`          | Duration in minutes                    |\n",
    "| `vote_average`     | Average rating                         |\n",
    "| `vote_count`       | Total number of votes                  |\n",
    "\n",
    "#### `tmdb_5000_credits.csv`\n",
    "\n",
    "| Column Name | Description         |\n",
    "|-------------|---------------------|\n",
    "| `movie_id`  | ID matching with movies file |\n",
    "| `title`     | Movie name          |\n",
    "| `cast`      | Cast details (JSON) |\n",
    "| `crew`      | Crew details (JSON) |\n",
    "\n",
    "---\n",
    "\n",
    "\n"
   ]
  },
  {
   "cell_type": "code",
   "execution_count": 1,
   "id": "55f5a891",
   "metadata": {
    "execution": {
     "iopub.execute_input": "2025-07-23T15:53:42.149130Z",
     "iopub.status.busy": "2025-07-23T15:53:42.148710Z",
     "iopub.status.idle": "2025-07-23T15:53:45.882160Z",
     "shell.execute_reply": "2025-07-23T15:53:45.881039Z"
    },
    "papermill": {
     "duration": 3.744783,
     "end_time": "2025-07-23T15:53:45.883998",
     "exception": false,
     "start_time": "2025-07-23T15:53:42.139215",
     "status": "completed"
    },
    "tags": []
   },
   "outputs": [],
   "source": [
    "# 📚 Data Handling\n",
    "import numpy as np\n",
    "import pandas as pd\n",
    "\n",
    "# 🛠️ File Handling\n",
    "import os\n",
    "import ast\n",
    "import pickle\n",
    "\n",
    "# 📊 Feature Extraction\n",
    "from sklearn.feature_extraction.text import CountVectorizer\n",
    "\n",
    "# 🧠 Similarity Calculation\n",
    "from sklearn.metrics.pairwise import cosine_similarity\n"
   ]
  },
  {
   "cell_type": "markdown",
   "id": "4357bd15",
   "metadata": {
    "papermill": {
     "duration": 0.007317,
     "end_time": "2025-07-23T15:53:45.899097",
     "exception": false,
     "start_time": "2025-07-23T15:53:45.891780",
     "status": "completed"
    },
    "tags": []
   },
   "source": [
    "![Movie Banner](https://i.pinimg.com/1200x/e2/89/78/e28978b0c7977dfb32dd77947ab3881a.jpg)"
   ]
  },
  {
   "cell_type": "markdown",
   "id": "8d11bb11",
   "metadata": {
    "papermill": {
     "duration": 0.007404,
     "end_time": "2025-07-23T15:53:45.915015",
     "exception": false,
     "start_time": "2025-07-23T15:53:45.907611",
     "status": "completed"
    },
    "tags": []
   },
   "source": [
    "<div style=\"display: flex; gap: 10px;\">\n",
    "  <img src=\"https://i.pinimg.com/736x/87/ce/f0/87cef0375e611123a7a53f157b2cf196.jpg\" style=\"width: 25%;\">\n",
    "  <img src=\"https://i.pinimg.com/736x/96/0e/a6/960ea61c1e824f8c98055cf8f4efaf85.jpg\" style=\"width: 25%;\">\n",
    "  <img src=\"https://i.pinimg.com/1200x/e3/c5/35/e3c535ac3bb37e216ebad126f578a6ff.jpg\" style=\"width: 25%;\">\n",
    "  <img src=\"https://i.pinimg.com/1200x/05/a9/95/05a9951138f51d653a00b27423c4b7e4.jpg\" style=\"width: 25%;\">\n",
    "</div>\n"
   ]
  },
  {
   "cell_type": "markdown",
   "id": "19e8ed0c",
   "metadata": {
    "papermill": {
     "duration": 0.007228,
     "end_time": "2025-07-23T15:53:45.929796",
     "exception": false,
     "start_time": "2025-07-23T15:53:45.922568",
     "status": "completed"
    },
    "tags": []
   },
   "source": [
    "<h2 style=\"font-weight:bold; text-align:center; padding:20px; border:4px solid green; border-radius:30px; background-color:#fffde7;\">\n",
    "🎬 Dataset Loading\n",
    "</h2>"
   ]
  },
  {
   "cell_type": "code",
   "execution_count": 2,
   "id": "e7333e2c",
   "metadata": {
    "execution": {
     "iopub.execute_input": "2025-07-23T15:53:45.946512Z",
     "iopub.status.busy": "2025-07-23T15:53:45.946002Z",
     "iopub.status.idle": "2025-07-23T15:53:46.920581Z",
     "shell.execute_reply": "2025-07-23T15:53:46.919488Z"
    },
    "papermill": {
     "duration": 0.98543,
     "end_time": "2025-07-23T15:53:46.922747",
     "exception": false,
     "start_time": "2025-07-23T15:53:45.937317",
     "status": "completed"
    },
    "tags": []
   },
   "outputs": [],
   "source": [
    "movies = pd.read_csv('/kaggle/input/tmdb_5000_movies.csv')\n",
    "credits = pd.read_csv('/kaggle/input/tmdb_5000_credits.csv')\n"
   ]
  },
  {
   "cell_type": "code",
   "execution_count": 3,
   "id": "93bd9372",
   "metadata": {
    "execution": {
     "iopub.execute_input": "2025-07-23T15:53:46.941200Z",
     "iopub.status.busy": "2025-07-23T15:53:46.940337Z",
     "iopub.status.idle": "2025-07-23T15:53:46.947931Z",
     "shell.execute_reply": "2025-07-23T15:53:46.946688Z"
    },
    "papermill": {
     "duration": 0.018191,
     "end_time": "2025-07-23T15:53:46.949730",
     "exception": false,
     "start_time": "2025-07-23T15:53:46.931539",
     "status": "completed"
    },
    "tags": []
   },
   "outputs": [
    {
     "name": "stdout",
     "output_type": "stream",
     "text": [
      "['tmdb_5000_movies.csv', 'tmdb_5000_credits.csv']\n"
     ]
    }
   ],
   "source": [
    "import os\n",
    "print(os.listdir('/kaggle/input/'))\n"
   ]
  },
  {
   "cell_type": "code",
   "execution_count": 4,
   "id": "d391fc20",
   "metadata": {
    "execution": {
     "iopub.execute_input": "2025-07-23T15:53:46.967466Z",
     "iopub.status.busy": "2025-07-23T15:53:46.967092Z",
     "iopub.status.idle": "2025-07-23T15:53:47.002977Z",
     "shell.execute_reply": "2025-07-23T15:53:47.001834Z"
    },
    "papermill": {
     "duration": 0.046852,
     "end_time": "2025-07-23T15:53:47.004956",
     "exception": false,
     "start_time": "2025-07-23T15:53:46.958104",
     "status": "completed"
    },
    "tags": []
   },
   "outputs": [
    {
     "data": {
      "text/html": [
       "<div>\n",
       "<style scoped>\n",
       "    .dataframe tbody tr th:only-of-type {\n",
       "        vertical-align: middle;\n",
       "    }\n",
       "\n",
       "    .dataframe tbody tr th {\n",
       "        vertical-align: top;\n",
       "    }\n",
       "\n",
       "    .dataframe thead th {\n",
       "        text-align: right;\n",
       "    }\n",
       "</style>\n",
       "<table border=\"1\" class=\"dataframe\">\n",
       "  <thead>\n",
       "    <tr style=\"text-align: right;\">\n",
       "      <th></th>\n",
       "      <th>budget</th>\n",
       "      <th>genres</th>\n",
       "      <th>homepage</th>\n",
       "      <th>id</th>\n",
       "      <th>keywords</th>\n",
       "      <th>original_language</th>\n",
       "      <th>original_title</th>\n",
       "      <th>overview</th>\n",
       "      <th>popularity</th>\n",
       "      <th>production_companies</th>\n",
       "      <th>production_countries</th>\n",
       "      <th>release_date</th>\n",
       "      <th>revenue</th>\n",
       "      <th>runtime</th>\n",
       "      <th>spoken_languages</th>\n",
       "      <th>status</th>\n",
       "      <th>tagline</th>\n",
       "      <th>title</th>\n",
       "      <th>vote_average</th>\n",
       "      <th>vote_count</th>\n",
       "    </tr>\n",
       "  </thead>\n",
       "  <tbody>\n",
       "    <tr>\n",
       "      <th>0</th>\n",
       "      <td>237000000</td>\n",
       "      <td>[{\"id\": 28, \"name\": \"Action\"}, {\"id\": 12, \"nam...</td>\n",
       "      <td>http://www.avatarmovie.com/</td>\n",
       "      <td>19995</td>\n",
       "      <td>[{\"id\": 1463, \"name\": \"culture clash\"}, {\"id\":...</td>\n",
       "      <td>en</td>\n",
       "      <td>Avatar</td>\n",
       "      <td>In the 22nd century, a paraplegic Marine is di...</td>\n",
       "      <td>150.437577</td>\n",
       "      <td>[{\"name\": \"Ingenious Film Partners\", \"id\": 289...</td>\n",
       "      <td>[{\"iso_3166_1\": \"US\", \"name\": \"United States o...</td>\n",
       "      <td>2009-12-10</td>\n",
       "      <td>2787965087</td>\n",
       "      <td>162.0</td>\n",
       "      <td>[{\"iso_639_1\": \"en\", \"name\": \"English\"}, {\"iso...</td>\n",
       "      <td>Released</td>\n",
       "      <td>Enter the World of Pandora.</td>\n",
       "      <td>Avatar</td>\n",
       "      <td>7.2</td>\n",
       "      <td>11800</td>\n",
       "    </tr>\n",
       "    <tr>\n",
       "      <th>1</th>\n",
       "      <td>300000000</td>\n",
       "      <td>[{\"id\": 12, \"name\": \"Adventure\"}, {\"id\": 14, \"...</td>\n",
       "      <td>http://disney.go.com/disneypictures/pirates/</td>\n",
       "      <td>285</td>\n",
       "      <td>[{\"id\": 270, \"name\": \"ocean\"}, {\"id\": 726, \"na...</td>\n",
       "      <td>en</td>\n",
       "      <td>Pirates of the Caribbean: At World's End</td>\n",
       "      <td>Captain Barbossa, long believed to be dead, ha...</td>\n",
       "      <td>139.082615</td>\n",
       "      <td>[{\"name\": \"Walt Disney Pictures\", \"id\": 2}, {\"...</td>\n",
       "      <td>[{\"iso_3166_1\": \"US\", \"name\": \"United States o...</td>\n",
       "      <td>2007-05-19</td>\n",
       "      <td>961000000</td>\n",
       "      <td>169.0</td>\n",
       "      <td>[{\"iso_639_1\": \"en\", \"name\": \"English\"}]</td>\n",
       "      <td>Released</td>\n",
       "      <td>At the end of the world, the adventure begins.</td>\n",
       "      <td>Pirates of the Caribbean: At World's End</td>\n",
       "      <td>6.9</td>\n",
       "      <td>4500</td>\n",
       "    </tr>\n",
       "  </tbody>\n",
       "</table>\n",
       "</div>"
      ],
      "text/plain": [
       "      budget                                             genres  \\\n",
       "0  237000000  [{\"id\": 28, \"name\": \"Action\"}, {\"id\": 12, \"nam...   \n",
       "1  300000000  [{\"id\": 12, \"name\": \"Adventure\"}, {\"id\": 14, \"...   \n",
       "\n",
       "                                       homepage     id  \\\n",
       "0                   http://www.avatarmovie.com/  19995   \n",
       "1  http://disney.go.com/disneypictures/pirates/    285   \n",
       "\n",
       "                                            keywords original_language  \\\n",
       "0  [{\"id\": 1463, \"name\": \"culture clash\"}, {\"id\":...                en   \n",
       "1  [{\"id\": 270, \"name\": \"ocean\"}, {\"id\": 726, \"na...                en   \n",
       "\n",
       "                             original_title  \\\n",
       "0                                    Avatar   \n",
       "1  Pirates of the Caribbean: At World's End   \n",
       "\n",
       "                                            overview  popularity  \\\n",
       "0  In the 22nd century, a paraplegic Marine is di...  150.437577   \n",
       "1  Captain Barbossa, long believed to be dead, ha...  139.082615   \n",
       "\n",
       "                                production_companies  \\\n",
       "0  [{\"name\": \"Ingenious Film Partners\", \"id\": 289...   \n",
       "1  [{\"name\": \"Walt Disney Pictures\", \"id\": 2}, {\"...   \n",
       "\n",
       "                                production_countries release_date     revenue  \\\n",
       "0  [{\"iso_3166_1\": \"US\", \"name\": \"United States o...   2009-12-10  2787965087   \n",
       "1  [{\"iso_3166_1\": \"US\", \"name\": \"United States o...   2007-05-19   961000000   \n",
       "\n",
       "   runtime                                   spoken_languages    status  \\\n",
       "0    162.0  [{\"iso_639_1\": \"en\", \"name\": \"English\"}, {\"iso...  Released   \n",
       "1    169.0           [{\"iso_639_1\": \"en\", \"name\": \"English\"}]  Released   \n",
       "\n",
       "                                          tagline  \\\n",
       "0                     Enter the World of Pandora.   \n",
       "1  At the end of the world, the adventure begins.   \n",
       "\n",
       "                                      title  vote_average  vote_count  \n",
       "0                                    Avatar           7.2       11800  \n",
       "1  Pirates of the Caribbean: At World's End           6.9        4500  "
      ]
     },
     "execution_count": 4,
     "metadata": {},
     "output_type": "execute_result"
    }
   ],
   "source": [
    "movies.head(2)"
   ]
  },
  {
   "cell_type": "code",
   "execution_count": 5,
   "id": "bd89b022",
   "metadata": {
    "execution": {
     "iopub.execute_input": "2025-07-23T15:53:47.024573Z",
     "iopub.status.busy": "2025-07-23T15:53:47.023908Z",
     "iopub.status.idle": "2025-07-23T15:53:47.029362Z",
     "shell.execute_reply": "2025-07-23T15:53:47.028584Z"
    },
    "papermill": {
     "duration": 0.015943,
     "end_time": "2025-07-23T15:53:47.030773",
     "exception": false,
     "start_time": "2025-07-23T15:53:47.014830",
     "status": "completed"
    },
    "tags": []
   },
   "outputs": [
    {
     "data": {
      "text/plain": [
       "(4803, 20)"
      ]
     },
     "execution_count": 5,
     "metadata": {},
     "output_type": "execute_result"
    }
   ],
   "source": [
    "movies.shape"
   ]
  },
  {
   "cell_type": "code",
   "execution_count": 6,
   "id": "c5944536",
   "metadata": {
    "execution": {
     "iopub.execute_input": "2025-07-23T15:53:47.048329Z",
     "iopub.status.busy": "2025-07-23T15:53:47.048006Z",
     "iopub.status.idle": "2025-07-23T15:53:47.058357Z",
     "shell.execute_reply": "2025-07-23T15:53:47.057302Z"
    },
    "papermill": {
     "duration": 0.021165,
     "end_time": "2025-07-23T15:53:47.060091",
     "exception": false,
     "start_time": "2025-07-23T15:53:47.038926",
     "status": "completed"
    },
    "tags": []
   },
   "outputs": [
    {
     "data": {
      "text/html": [
       "<div>\n",
       "<style scoped>\n",
       "    .dataframe tbody tr th:only-of-type {\n",
       "        vertical-align: middle;\n",
       "    }\n",
       "\n",
       "    .dataframe tbody tr th {\n",
       "        vertical-align: top;\n",
       "    }\n",
       "\n",
       "    .dataframe thead th {\n",
       "        text-align: right;\n",
       "    }\n",
       "</style>\n",
       "<table border=\"1\" class=\"dataframe\">\n",
       "  <thead>\n",
       "    <tr style=\"text-align: right;\">\n",
       "      <th></th>\n",
       "      <th>movie_id</th>\n",
       "      <th>title</th>\n",
       "      <th>cast</th>\n",
       "      <th>crew</th>\n",
       "    </tr>\n",
       "  </thead>\n",
       "  <tbody>\n",
       "    <tr>\n",
       "      <th>0</th>\n",
       "      <td>19995</td>\n",
       "      <td>Avatar</td>\n",
       "      <td>[{\"cast_id\": 242, \"character\": \"Jake Sully\", \"...</td>\n",
       "      <td>[{\"credit_id\": \"52fe48009251416c750aca23\", \"de...</td>\n",
       "    </tr>\n",
       "    <tr>\n",
       "      <th>1</th>\n",
       "      <td>285</td>\n",
       "      <td>Pirates of the Caribbean: At World's End</td>\n",
       "      <td>[{\"cast_id\": 4, \"character\": \"Captain Jack Spa...</td>\n",
       "      <td>[{\"credit_id\": \"52fe4232c3a36847f800b579\", \"de...</td>\n",
       "    </tr>\n",
       "    <tr>\n",
       "      <th>2</th>\n",
       "      <td>206647</td>\n",
       "      <td>Spectre</td>\n",
       "      <td>[{\"cast_id\": 1, \"character\": \"James Bond\", \"cr...</td>\n",
       "      <td>[{\"credit_id\": \"54805967c3a36829b5002c41\", \"de...</td>\n",
       "    </tr>\n",
       "    <tr>\n",
       "      <th>3</th>\n",
       "      <td>49026</td>\n",
       "      <td>The Dark Knight Rises</td>\n",
       "      <td>[{\"cast_id\": 2, \"character\": \"Bruce Wayne / Ba...</td>\n",
       "      <td>[{\"credit_id\": \"52fe4781c3a36847f81398c3\", \"de...</td>\n",
       "    </tr>\n",
       "    <tr>\n",
       "      <th>4</th>\n",
       "      <td>49529</td>\n",
       "      <td>John Carter</td>\n",
       "      <td>[{\"cast_id\": 5, \"character\": \"John Carter\", \"c...</td>\n",
       "      <td>[{\"credit_id\": \"52fe479ac3a36847f813eaa3\", \"de...</td>\n",
       "    </tr>\n",
       "  </tbody>\n",
       "</table>\n",
       "</div>"
      ],
      "text/plain": [
       "   movie_id                                     title  \\\n",
       "0     19995                                    Avatar   \n",
       "1       285  Pirates of the Caribbean: At World's End   \n",
       "2    206647                                   Spectre   \n",
       "3     49026                     The Dark Knight Rises   \n",
       "4     49529                               John Carter   \n",
       "\n",
       "                                                cast  \\\n",
       "0  [{\"cast_id\": 242, \"character\": \"Jake Sully\", \"...   \n",
       "1  [{\"cast_id\": 4, \"character\": \"Captain Jack Spa...   \n",
       "2  [{\"cast_id\": 1, \"character\": \"James Bond\", \"cr...   \n",
       "3  [{\"cast_id\": 2, \"character\": \"Bruce Wayne / Ba...   \n",
       "4  [{\"cast_id\": 5, \"character\": \"John Carter\", \"c...   \n",
       "\n",
       "                                                crew  \n",
       "0  [{\"credit_id\": \"52fe48009251416c750aca23\", \"de...  \n",
       "1  [{\"credit_id\": \"52fe4232c3a36847f800b579\", \"de...  \n",
       "2  [{\"credit_id\": \"54805967c3a36829b5002c41\", \"de...  \n",
       "3  [{\"credit_id\": \"52fe4781c3a36847f81398c3\", \"de...  \n",
       "4  [{\"credit_id\": \"52fe479ac3a36847f813eaa3\", \"de...  "
      ]
     },
     "execution_count": 6,
     "metadata": {},
     "output_type": "execute_result"
    }
   ],
   "source": [
    "credits.head()"
   ]
  },
  {
   "cell_type": "markdown",
   "id": "80c1cbea",
   "metadata": {
    "papermill": {
     "duration": 0.00772,
     "end_time": "2025-07-23T15:53:47.076050",
     "exception": false,
     "start_time": "2025-07-23T15:53:47.068330",
     "status": "completed"
    },
    "tags": []
   },
   "source": [
    "<h2 style=\"font-weight:bold; text-align:center; padding:20px; border:4px solid green; border-radius:30px; background-color:#fffde7;\">\n",
    "🎬 Data merging\n",
    "</h2>"
   ]
  },
  {
   "cell_type": "code",
   "execution_count": 7,
   "id": "902294fa",
   "metadata": {
    "execution": {
     "iopub.execute_input": "2025-07-23T15:53:47.093330Z",
     "iopub.status.busy": "2025-07-23T15:53:47.093003Z",
     "iopub.status.idle": "2025-07-23T15:53:47.120821Z",
     "shell.execute_reply": "2025-07-23T15:53:47.119835Z"
    },
    "papermill": {
     "duration": 0.038497,
     "end_time": "2025-07-23T15:53:47.122504",
     "exception": false,
     "start_time": "2025-07-23T15:53:47.084007",
     "status": "completed"
    },
    "tags": []
   },
   "outputs": [],
   "source": [
    "movies = movies.merge(credits,on='title')"
   ]
  },
  {
   "cell_type": "code",
   "execution_count": 8,
   "id": "20a549a9",
   "metadata": {
    "execution": {
     "iopub.execute_input": "2025-07-23T15:53:47.142626Z",
     "iopub.status.busy": "2025-07-23T15:53:47.142290Z",
     "iopub.status.idle": "2025-07-23T15:53:47.166330Z",
     "shell.execute_reply": "2025-07-23T15:53:47.165305Z"
    },
    "papermill": {
     "duration": 0.036702,
     "end_time": "2025-07-23T15:53:47.168436",
     "exception": false,
     "start_time": "2025-07-23T15:53:47.131734",
     "status": "completed"
    },
    "tags": []
   },
   "outputs": [
    {
     "data": {
      "text/html": [
       "<div>\n",
       "<style scoped>\n",
       "    .dataframe tbody tr th:only-of-type {\n",
       "        vertical-align: middle;\n",
       "    }\n",
       "\n",
       "    .dataframe tbody tr th {\n",
       "        vertical-align: top;\n",
       "    }\n",
       "\n",
       "    .dataframe thead th {\n",
       "        text-align: right;\n",
       "    }\n",
       "</style>\n",
       "<table border=\"1\" class=\"dataframe\">\n",
       "  <thead>\n",
       "    <tr style=\"text-align: right;\">\n",
       "      <th></th>\n",
       "      <th>budget</th>\n",
       "      <th>genres</th>\n",
       "      <th>homepage</th>\n",
       "      <th>id</th>\n",
       "      <th>keywords</th>\n",
       "      <th>original_language</th>\n",
       "      <th>original_title</th>\n",
       "      <th>overview</th>\n",
       "      <th>popularity</th>\n",
       "      <th>production_companies</th>\n",
       "      <th>...</th>\n",
       "      <th>runtime</th>\n",
       "      <th>spoken_languages</th>\n",
       "      <th>status</th>\n",
       "      <th>tagline</th>\n",
       "      <th>title</th>\n",
       "      <th>vote_average</th>\n",
       "      <th>vote_count</th>\n",
       "      <th>movie_id</th>\n",
       "      <th>cast</th>\n",
       "      <th>crew</th>\n",
       "    </tr>\n",
       "  </thead>\n",
       "  <tbody>\n",
       "    <tr>\n",
       "      <th>0</th>\n",
       "      <td>237000000</td>\n",
       "      <td>[{\"id\": 28, \"name\": \"Action\"}, {\"id\": 12, \"nam...</td>\n",
       "      <td>http://www.avatarmovie.com/</td>\n",
       "      <td>19995</td>\n",
       "      <td>[{\"id\": 1463, \"name\": \"culture clash\"}, {\"id\":...</td>\n",
       "      <td>en</td>\n",
       "      <td>Avatar</td>\n",
       "      <td>In the 22nd century, a paraplegic Marine is di...</td>\n",
       "      <td>150.437577</td>\n",
       "      <td>[{\"name\": \"Ingenious Film Partners\", \"id\": 289...</td>\n",
       "      <td>...</td>\n",
       "      <td>162.0</td>\n",
       "      <td>[{\"iso_639_1\": \"en\", \"name\": \"English\"}, {\"iso...</td>\n",
       "      <td>Released</td>\n",
       "      <td>Enter the World of Pandora.</td>\n",
       "      <td>Avatar</td>\n",
       "      <td>7.2</td>\n",
       "      <td>11800</td>\n",
       "      <td>19995</td>\n",
       "      <td>[{\"cast_id\": 242, \"character\": \"Jake Sully\", \"...</td>\n",
       "      <td>[{\"credit_id\": \"52fe48009251416c750aca23\", \"de...</td>\n",
       "    </tr>\n",
       "    <tr>\n",
       "      <th>1</th>\n",
       "      <td>300000000</td>\n",
       "      <td>[{\"id\": 12, \"name\": \"Adventure\"}, {\"id\": 14, \"...</td>\n",
       "      <td>http://disney.go.com/disneypictures/pirates/</td>\n",
       "      <td>285</td>\n",
       "      <td>[{\"id\": 270, \"name\": \"ocean\"}, {\"id\": 726, \"na...</td>\n",
       "      <td>en</td>\n",
       "      <td>Pirates of the Caribbean: At World's End</td>\n",
       "      <td>Captain Barbossa, long believed to be dead, ha...</td>\n",
       "      <td>139.082615</td>\n",
       "      <td>[{\"name\": \"Walt Disney Pictures\", \"id\": 2}, {\"...</td>\n",
       "      <td>...</td>\n",
       "      <td>169.0</td>\n",
       "      <td>[{\"iso_639_1\": \"en\", \"name\": \"English\"}]</td>\n",
       "      <td>Released</td>\n",
       "      <td>At the end of the world, the adventure begins.</td>\n",
       "      <td>Pirates of the Caribbean: At World's End</td>\n",
       "      <td>6.9</td>\n",
       "      <td>4500</td>\n",
       "      <td>285</td>\n",
       "      <td>[{\"cast_id\": 4, \"character\": \"Captain Jack Spa...</td>\n",
       "      <td>[{\"credit_id\": \"52fe4232c3a36847f800b579\", \"de...</td>\n",
       "    </tr>\n",
       "    <tr>\n",
       "      <th>2</th>\n",
       "      <td>245000000</td>\n",
       "      <td>[{\"id\": 28, \"name\": \"Action\"}, {\"id\": 12, \"nam...</td>\n",
       "      <td>http://www.sonypictures.com/movies/spectre/</td>\n",
       "      <td>206647</td>\n",
       "      <td>[{\"id\": 470, \"name\": \"spy\"}, {\"id\": 818, \"name...</td>\n",
       "      <td>en</td>\n",
       "      <td>Spectre</td>\n",
       "      <td>A cryptic message from Bond’s past sends him o...</td>\n",
       "      <td>107.376788</td>\n",
       "      <td>[{\"name\": \"Columbia Pictures\", \"id\": 5}, {\"nam...</td>\n",
       "      <td>...</td>\n",
       "      <td>148.0</td>\n",
       "      <td>[{\"iso_639_1\": \"fr\", \"name\": \"Fran\\u00e7ais\"},...</td>\n",
       "      <td>Released</td>\n",
       "      <td>A Plan No One Escapes</td>\n",
       "      <td>Spectre</td>\n",
       "      <td>6.3</td>\n",
       "      <td>4466</td>\n",
       "      <td>206647</td>\n",
       "      <td>[{\"cast_id\": 1, \"character\": \"James Bond\", \"cr...</td>\n",
       "      <td>[{\"credit_id\": \"54805967c3a36829b5002c41\", \"de...</td>\n",
       "    </tr>\n",
       "    <tr>\n",
       "      <th>3</th>\n",
       "      <td>250000000</td>\n",
       "      <td>[{\"id\": 28, \"name\": \"Action\"}, {\"id\": 80, \"nam...</td>\n",
       "      <td>http://www.thedarkknightrises.com/</td>\n",
       "      <td>49026</td>\n",
       "      <td>[{\"id\": 849, \"name\": \"dc comics\"}, {\"id\": 853,...</td>\n",
       "      <td>en</td>\n",
       "      <td>The Dark Knight Rises</td>\n",
       "      <td>Following the death of District Attorney Harve...</td>\n",
       "      <td>112.312950</td>\n",
       "      <td>[{\"name\": \"Legendary Pictures\", \"id\": 923}, {\"...</td>\n",
       "      <td>...</td>\n",
       "      <td>165.0</td>\n",
       "      <td>[{\"iso_639_1\": \"en\", \"name\": \"English\"}]</td>\n",
       "      <td>Released</td>\n",
       "      <td>The Legend Ends</td>\n",
       "      <td>The Dark Knight Rises</td>\n",
       "      <td>7.6</td>\n",
       "      <td>9106</td>\n",
       "      <td>49026</td>\n",
       "      <td>[{\"cast_id\": 2, \"character\": \"Bruce Wayne / Ba...</td>\n",
       "      <td>[{\"credit_id\": \"52fe4781c3a36847f81398c3\", \"de...</td>\n",
       "    </tr>\n",
       "    <tr>\n",
       "      <th>4</th>\n",
       "      <td>260000000</td>\n",
       "      <td>[{\"id\": 28, \"name\": \"Action\"}, {\"id\": 12, \"nam...</td>\n",
       "      <td>http://movies.disney.com/john-carter</td>\n",
       "      <td>49529</td>\n",
       "      <td>[{\"id\": 818, \"name\": \"based on novel\"}, {\"id\":...</td>\n",
       "      <td>en</td>\n",
       "      <td>John Carter</td>\n",
       "      <td>John Carter is a war-weary, former military ca...</td>\n",
       "      <td>43.926995</td>\n",
       "      <td>[{\"name\": \"Walt Disney Pictures\", \"id\": 2}]</td>\n",
       "      <td>...</td>\n",
       "      <td>132.0</td>\n",
       "      <td>[{\"iso_639_1\": \"en\", \"name\": \"English\"}]</td>\n",
       "      <td>Released</td>\n",
       "      <td>Lost in our world, found in another.</td>\n",
       "      <td>John Carter</td>\n",
       "      <td>6.1</td>\n",
       "      <td>2124</td>\n",
       "      <td>49529</td>\n",
       "      <td>[{\"cast_id\": 5, \"character\": \"John Carter\", \"c...</td>\n",
       "      <td>[{\"credit_id\": \"52fe479ac3a36847f813eaa3\", \"de...</td>\n",
       "    </tr>\n",
       "  </tbody>\n",
       "</table>\n",
       "<p>5 rows × 23 columns</p>\n",
       "</div>"
      ],
      "text/plain": [
       "      budget                                             genres  \\\n",
       "0  237000000  [{\"id\": 28, \"name\": \"Action\"}, {\"id\": 12, \"nam...   \n",
       "1  300000000  [{\"id\": 12, \"name\": \"Adventure\"}, {\"id\": 14, \"...   \n",
       "2  245000000  [{\"id\": 28, \"name\": \"Action\"}, {\"id\": 12, \"nam...   \n",
       "3  250000000  [{\"id\": 28, \"name\": \"Action\"}, {\"id\": 80, \"nam...   \n",
       "4  260000000  [{\"id\": 28, \"name\": \"Action\"}, {\"id\": 12, \"nam...   \n",
       "\n",
       "                                       homepage      id  \\\n",
       "0                   http://www.avatarmovie.com/   19995   \n",
       "1  http://disney.go.com/disneypictures/pirates/     285   \n",
       "2   http://www.sonypictures.com/movies/spectre/  206647   \n",
       "3            http://www.thedarkknightrises.com/   49026   \n",
       "4          http://movies.disney.com/john-carter   49529   \n",
       "\n",
       "                                            keywords original_language  \\\n",
       "0  [{\"id\": 1463, \"name\": \"culture clash\"}, {\"id\":...                en   \n",
       "1  [{\"id\": 270, \"name\": \"ocean\"}, {\"id\": 726, \"na...                en   \n",
       "2  [{\"id\": 470, \"name\": \"spy\"}, {\"id\": 818, \"name...                en   \n",
       "3  [{\"id\": 849, \"name\": \"dc comics\"}, {\"id\": 853,...                en   \n",
       "4  [{\"id\": 818, \"name\": \"based on novel\"}, {\"id\":...                en   \n",
       "\n",
       "                             original_title  \\\n",
       "0                                    Avatar   \n",
       "1  Pirates of the Caribbean: At World's End   \n",
       "2                                   Spectre   \n",
       "3                     The Dark Knight Rises   \n",
       "4                               John Carter   \n",
       "\n",
       "                                            overview  popularity  \\\n",
       "0  In the 22nd century, a paraplegic Marine is di...  150.437577   \n",
       "1  Captain Barbossa, long believed to be dead, ha...  139.082615   \n",
       "2  A cryptic message from Bond’s past sends him o...  107.376788   \n",
       "3  Following the death of District Attorney Harve...  112.312950   \n",
       "4  John Carter is a war-weary, former military ca...   43.926995   \n",
       "\n",
       "                                production_companies  ... runtime  \\\n",
       "0  [{\"name\": \"Ingenious Film Partners\", \"id\": 289...  ...   162.0   \n",
       "1  [{\"name\": \"Walt Disney Pictures\", \"id\": 2}, {\"...  ...   169.0   \n",
       "2  [{\"name\": \"Columbia Pictures\", \"id\": 5}, {\"nam...  ...   148.0   \n",
       "3  [{\"name\": \"Legendary Pictures\", \"id\": 923}, {\"...  ...   165.0   \n",
       "4        [{\"name\": \"Walt Disney Pictures\", \"id\": 2}]  ...   132.0   \n",
       "\n",
       "                                    spoken_languages    status  \\\n",
       "0  [{\"iso_639_1\": \"en\", \"name\": \"English\"}, {\"iso...  Released   \n",
       "1           [{\"iso_639_1\": \"en\", \"name\": \"English\"}]  Released   \n",
       "2  [{\"iso_639_1\": \"fr\", \"name\": \"Fran\\u00e7ais\"},...  Released   \n",
       "3           [{\"iso_639_1\": \"en\", \"name\": \"English\"}]  Released   \n",
       "4           [{\"iso_639_1\": \"en\", \"name\": \"English\"}]  Released   \n",
       "\n",
       "                                          tagline  \\\n",
       "0                     Enter the World of Pandora.   \n",
       "1  At the end of the world, the adventure begins.   \n",
       "2                           A Plan No One Escapes   \n",
       "3                                 The Legend Ends   \n",
       "4            Lost in our world, found in another.   \n",
       "\n",
       "                                      title vote_average vote_count movie_id  \\\n",
       "0                                    Avatar          7.2      11800    19995   \n",
       "1  Pirates of the Caribbean: At World's End          6.9       4500      285   \n",
       "2                                   Spectre          6.3       4466   206647   \n",
       "3                     The Dark Knight Rises          7.6       9106    49026   \n",
       "4                               John Carter          6.1       2124    49529   \n",
       "\n",
       "                                                cast  \\\n",
       "0  [{\"cast_id\": 242, \"character\": \"Jake Sully\", \"...   \n",
       "1  [{\"cast_id\": 4, \"character\": \"Captain Jack Spa...   \n",
       "2  [{\"cast_id\": 1, \"character\": \"James Bond\", \"cr...   \n",
       "3  [{\"cast_id\": 2, \"character\": \"Bruce Wayne / Ba...   \n",
       "4  [{\"cast_id\": 5, \"character\": \"John Carter\", \"c...   \n",
       "\n",
       "                                                crew  \n",
       "0  [{\"credit_id\": \"52fe48009251416c750aca23\", \"de...  \n",
       "1  [{\"credit_id\": \"52fe4232c3a36847f800b579\", \"de...  \n",
       "2  [{\"credit_id\": \"54805967c3a36829b5002c41\", \"de...  \n",
       "3  [{\"credit_id\": \"52fe4781c3a36847f81398c3\", \"de...  \n",
       "4  [{\"credit_id\": \"52fe479ac3a36847f813eaa3\", \"de...  \n",
       "\n",
       "[5 rows x 23 columns]"
      ]
     },
     "execution_count": 8,
     "metadata": {},
     "output_type": "execute_result"
    }
   ],
   "source": [
    "movies.head()\n",
    "# budget\n",
    "# homepage\n",
    "# id\n",
    "# original_language\n",
    "# original_title\n",
    "# popularity\n",
    "# production_comapny\n",
    "# production_countries\n",
    "# release-date(not sure)"
   ]
  },
  {
   "cell_type": "code",
   "execution_count": 9,
   "id": "5970a71d",
   "metadata": {
    "execution": {
     "iopub.execute_input": "2025-07-23T15:53:47.187418Z",
     "iopub.status.busy": "2025-07-23T15:53:47.187060Z",
     "iopub.status.idle": "2025-07-23T15:53:47.194397Z",
     "shell.execute_reply": "2025-07-23T15:53:47.193288Z"
    },
    "papermill": {
     "duration": 0.018647,
     "end_time": "2025-07-23T15:53:47.195964",
     "exception": false,
     "start_time": "2025-07-23T15:53:47.177317",
     "status": "completed"
    },
    "tags": []
   },
   "outputs": [],
   "source": [
    "movies = movies[['movie_id','title','overview','genres','keywords','cast','crew']]"
   ]
  },
  {
   "cell_type": "code",
   "execution_count": 10,
   "id": "2da874e0",
   "metadata": {
    "execution": {
     "iopub.execute_input": "2025-07-23T15:53:47.214660Z",
     "iopub.status.busy": "2025-07-23T15:53:47.214325Z",
     "iopub.status.idle": "2025-07-23T15:53:47.226624Z",
     "shell.execute_reply": "2025-07-23T15:53:47.225648Z"
    },
    "papermill": {
     "duration": 0.02364,
     "end_time": "2025-07-23T15:53:47.228479",
     "exception": false,
     "start_time": "2025-07-23T15:53:47.204839",
     "status": "completed"
    },
    "tags": []
   },
   "outputs": [
    {
     "data": {
      "text/html": [
       "<div>\n",
       "<style scoped>\n",
       "    .dataframe tbody tr th:only-of-type {\n",
       "        vertical-align: middle;\n",
       "    }\n",
       "\n",
       "    .dataframe tbody tr th {\n",
       "        vertical-align: top;\n",
       "    }\n",
       "\n",
       "    .dataframe thead th {\n",
       "        text-align: right;\n",
       "    }\n",
       "</style>\n",
       "<table border=\"1\" class=\"dataframe\">\n",
       "  <thead>\n",
       "    <tr style=\"text-align: right;\">\n",
       "      <th></th>\n",
       "      <th>movie_id</th>\n",
       "      <th>title</th>\n",
       "      <th>overview</th>\n",
       "      <th>genres</th>\n",
       "      <th>keywords</th>\n",
       "      <th>cast</th>\n",
       "      <th>crew</th>\n",
       "    </tr>\n",
       "  </thead>\n",
       "  <tbody>\n",
       "    <tr>\n",
       "      <th>0</th>\n",
       "      <td>19995</td>\n",
       "      <td>Avatar</td>\n",
       "      <td>In the 22nd century, a paraplegic Marine is di...</td>\n",
       "      <td>[{\"id\": 28, \"name\": \"Action\"}, {\"id\": 12, \"nam...</td>\n",
       "      <td>[{\"id\": 1463, \"name\": \"culture clash\"}, {\"id\":...</td>\n",
       "      <td>[{\"cast_id\": 242, \"character\": \"Jake Sully\", \"...</td>\n",
       "      <td>[{\"credit_id\": \"52fe48009251416c750aca23\", \"de...</td>\n",
       "    </tr>\n",
       "    <tr>\n",
       "      <th>1</th>\n",
       "      <td>285</td>\n",
       "      <td>Pirates of the Caribbean: At World's End</td>\n",
       "      <td>Captain Barbossa, long believed to be dead, ha...</td>\n",
       "      <td>[{\"id\": 12, \"name\": \"Adventure\"}, {\"id\": 14, \"...</td>\n",
       "      <td>[{\"id\": 270, \"name\": \"ocean\"}, {\"id\": 726, \"na...</td>\n",
       "      <td>[{\"cast_id\": 4, \"character\": \"Captain Jack Spa...</td>\n",
       "      <td>[{\"credit_id\": \"52fe4232c3a36847f800b579\", \"de...</td>\n",
       "    </tr>\n",
       "    <tr>\n",
       "      <th>2</th>\n",
       "      <td>206647</td>\n",
       "      <td>Spectre</td>\n",
       "      <td>A cryptic message from Bond’s past sends him o...</td>\n",
       "      <td>[{\"id\": 28, \"name\": \"Action\"}, {\"id\": 12, \"nam...</td>\n",
       "      <td>[{\"id\": 470, \"name\": \"spy\"}, {\"id\": 818, \"name...</td>\n",
       "      <td>[{\"cast_id\": 1, \"character\": \"James Bond\", \"cr...</td>\n",
       "      <td>[{\"credit_id\": \"54805967c3a36829b5002c41\", \"de...</td>\n",
       "    </tr>\n",
       "    <tr>\n",
       "      <th>3</th>\n",
       "      <td>49026</td>\n",
       "      <td>The Dark Knight Rises</td>\n",
       "      <td>Following the death of District Attorney Harve...</td>\n",
       "      <td>[{\"id\": 28, \"name\": \"Action\"}, {\"id\": 80, \"nam...</td>\n",
       "      <td>[{\"id\": 849, \"name\": \"dc comics\"}, {\"id\": 853,...</td>\n",
       "      <td>[{\"cast_id\": 2, \"character\": \"Bruce Wayne / Ba...</td>\n",
       "      <td>[{\"credit_id\": \"52fe4781c3a36847f81398c3\", \"de...</td>\n",
       "    </tr>\n",
       "    <tr>\n",
       "      <th>4</th>\n",
       "      <td>49529</td>\n",
       "      <td>John Carter</td>\n",
       "      <td>John Carter is a war-weary, former military ca...</td>\n",
       "      <td>[{\"id\": 28, \"name\": \"Action\"}, {\"id\": 12, \"nam...</td>\n",
       "      <td>[{\"id\": 818, \"name\": \"based on novel\"}, {\"id\":...</td>\n",
       "      <td>[{\"cast_id\": 5, \"character\": \"John Carter\", \"c...</td>\n",
       "      <td>[{\"credit_id\": \"52fe479ac3a36847f813eaa3\", \"de...</td>\n",
       "    </tr>\n",
       "  </tbody>\n",
       "</table>\n",
       "</div>"
      ],
      "text/plain": [
       "   movie_id                                     title  \\\n",
       "0     19995                                    Avatar   \n",
       "1       285  Pirates of the Caribbean: At World's End   \n",
       "2    206647                                   Spectre   \n",
       "3     49026                     The Dark Knight Rises   \n",
       "4     49529                               John Carter   \n",
       "\n",
       "                                            overview  \\\n",
       "0  In the 22nd century, a paraplegic Marine is di...   \n",
       "1  Captain Barbossa, long believed to be dead, ha...   \n",
       "2  A cryptic message from Bond’s past sends him o...   \n",
       "3  Following the death of District Attorney Harve...   \n",
       "4  John Carter is a war-weary, former military ca...   \n",
       "\n",
       "                                              genres  \\\n",
       "0  [{\"id\": 28, \"name\": \"Action\"}, {\"id\": 12, \"nam...   \n",
       "1  [{\"id\": 12, \"name\": \"Adventure\"}, {\"id\": 14, \"...   \n",
       "2  [{\"id\": 28, \"name\": \"Action\"}, {\"id\": 12, \"nam...   \n",
       "3  [{\"id\": 28, \"name\": \"Action\"}, {\"id\": 80, \"nam...   \n",
       "4  [{\"id\": 28, \"name\": \"Action\"}, {\"id\": 12, \"nam...   \n",
       "\n",
       "                                            keywords  \\\n",
       "0  [{\"id\": 1463, \"name\": \"culture clash\"}, {\"id\":...   \n",
       "1  [{\"id\": 270, \"name\": \"ocean\"}, {\"id\": 726, \"na...   \n",
       "2  [{\"id\": 470, \"name\": \"spy\"}, {\"id\": 818, \"name...   \n",
       "3  [{\"id\": 849, \"name\": \"dc comics\"}, {\"id\": 853,...   \n",
       "4  [{\"id\": 818, \"name\": \"based on novel\"}, {\"id\":...   \n",
       "\n",
       "                                                cast  \\\n",
       "0  [{\"cast_id\": 242, \"character\": \"Jake Sully\", \"...   \n",
       "1  [{\"cast_id\": 4, \"character\": \"Captain Jack Spa...   \n",
       "2  [{\"cast_id\": 1, \"character\": \"James Bond\", \"cr...   \n",
       "3  [{\"cast_id\": 2, \"character\": \"Bruce Wayne / Ba...   \n",
       "4  [{\"cast_id\": 5, \"character\": \"John Carter\", \"c...   \n",
       "\n",
       "                                                crew  \n",
       "0  [{\"credit_id\": \"52fe48009251416c750aca23\", \"de...  \n",
       "1  [{\"credit_id\": \"52fe4232c3a36847f800b579\", \"de...  \n",
       "2  [{\"credit_id\": \"54805967c3a36829b5002c41\", \"de...  \n",
       "3  [{\"credit_id\": \"52fe4781c3a36847f81398c3\", \"de...  \n",
       "4  [{\"credit_id\": \"52fe479ac3a36847f813eaa3\", \"de...  "
      ]
     },
     "execution_count": 10,
     "metadata": {},
     "output_type": "execute_result"
    }
   ],
   "source": [
    "movies.head()"
   ]
  },
  {
   "cell_type": "markdown",
   "id": "a0ca4bc4",
   "metadata": {
    "papermill": {
     "duration": 0.074513,
     "end_time": "2025-07-23T15:53:47.312290",
     "exception": false,
     "start_time": "2025-07-23T15:53:47.237777",
     "status": "completed"
    },
    "tags": []
   },
   "source": [
    "<h2 style=\"font-weight:bold; text-align:center; padding:20px; border:4px solid green; border-radius:30px; background-color:#fffde7;\">\n",
    " 🧹 Textual Data Transformation and Feature Engineering\n",
    "\n",
    "</h2>"
   ]
  },
  {
   "cell_type": "code",
   "execution_count": 11,
   "id": "3e89448b",
   "metadata": {
    "execution": {
     "iopub.execute_input": "2025-07-23T15:53:47.332441Z",
     "iopub.status.busy": "2025-07-23T15:53:47.332065Z",
     "iopub.status.idle": "2025-07-23T15:53:47.336371Z",
     "shell.execute_reply": "2025-07-23T15:53:47.335461Z"
    },
    "papermill": {
     "duration": 0.016222,
     "end_time": "2025-07-23T15:53:47.337971",
     "exception": false,
     "start_time": "2025-07-23T15:53:47.321749",
     "status": "completed"
    },
    "tags": []
   },
   "outputs": [],
   "source": [
    "import ast"
   ]
  },
  {
   "cell_type": "code",
   "execution_count": 12,
   "id": "b98a5f05",
   "metadata": {
    "execution": {
     "iopub.execute_input": "2025-07-23T15:53:47.357534Z",
     "iopub.status.busy": "2025-07-23T15:53:47.357172Z",
     "iopub.status.idle": "2025-07-23T15:53:47.362374Z",
     "shell.execute_reply": "2025-07-23T15:53:47.361344Z"
    },
    "papermill": {
     "duration": 0.017219,
     "end_time": "2025-07-23T15:53:47.364256",
     "exception": false,
     "start_time": "2025-07-23T15:53:47.347037",
     "status": "completed"
    },
    "tags": []
   },
   "outputs": [],
   "source": [
    "def convert(text):\n",
    "    L = []\n",
    "    for i in ast.literal_eval(text):\n",
    "        L.append(i['name']) \n",
    "    return L "
   ]
  },
  {
   "cell_type": "code",
   "execution_count": 13,
   "id": "de51757d",
   "metadata": {
    "execution": {
     "iopub.execute_input": "2025-07-23T15:53:47.383778Z",
     "iopub.status.busy": "2025-07-23T15:53:47.383373Z",
     "iopub.status.idle": "2025-07-23T15:53:47.394342Z",
     "shell.execute_reply": "2025-07-23T15:53:47.393474Z"
    },
    "papermill": {
     "duration": 0.02274,
     "end_time": "2025-07-23T15:53:47.396063",
     "exception": false,
     "start_time": "2025-07-23T15:53:47.373323",
     "status": "completed"
    },
    "tags": []
   },
   "outputs": [],
   "source": [
    "movies.dropna(inplace=True)"
   ]
  },
  {
   "cell_type": "code",
   "execution_count": 14,
   "id": "fd7637d1",
   "metadata": {
    "execution": {
     "iopub.execute_input": "2025-07-23T15:53:47.415447Z",
     "iopub.status.busy": "2025-07-23T15:53:47.415072Z",
     "iopub.status.idle": "2025-07-23T15:53:47.670965Z",
     "shell.execute_reply": "2025-07-23T15:53:47.670017Z"
    },
    "papermill": {
     "duration": 0.267779,
     "end_time": "2025-07-23T15:53:47.672841",
     "exception": false,
     "start_time": "2025-07-23T15:53:47.405062",
     "status": "completed"
    },
    "tags": []
   },
   "outputs": [
    {
     "data": {
      "text/html": [
       "<div>\n",
       "<style scoped>\n",
       "    .dataframe tbody tr th:only-of-type {\n",
       "        vertical-align: middle;\n",
       "    }\n",
       "\n",
       "    .dataframe tbody tr th {\n",
       "        vertical-align: top;\n",
       "    }\n",
       "\n",
       "    .dataframe thead th {\n",
       "        text-align: right;\n",
       "    }\n",
       "</style>\n",
       "<table border=\"1\" class=\"dataframe\">\n",
       "  <thead>\n",
       "    <tr style=\"text-align: right;\">\n",
       "      <th></th>\n",
       "      <th>movie_id</th>\n",
       "      <th>title</th>\n",
       "      <th>overview</th>\n",
       "      <th>genres</th>\n",
       "      <th>keywords</th>\n",
       "      <th>cast</th>\n",
       "      <th>crew</th>\n",
       "    </tr>\n",
       "  </thead>\n",
       "  <tbody>\n",
       "    <tr>\n",
       "      <th>0</th>\n",
       "      <td>19995</td>\n",
       "      <td>Avatar</td>\n",
       "      <td>In the 22nd century, a paraplegic Marine is di...</td>\n",
       "      <td>[Action, Adventure, Fantasy, Science Fiction]</td>\n",
       "      <td>[{\"id\": 1463, \"name\": \"culture clash\"}, {\"id\":...</td>\n",
       "      <td>[{\"cast_id\": 242, \"character\": \"Jake Sully\", \"...</td>\n",
       "      <td>[{\"credit_id\": \"52fe48009251416c750aca23\", \"de...</td>\n",
       "    </tr>\n",
       "    <tr>\n",
       "      <th>1</th>\n",
       "      <td>285</td>\n",
       "      <td>Pirates of the Caribbean: At World's End</td>\n",
       "      <td>Captain Barbossa, long believed to be dead, ha...</td>\n",
       "      <td>[Adventure, Fantasy, Action]</td>\n",
       "      <td>[{\"id\": 270, \"name\": \"ocean\"}, {\"id\": 726, \"na...</td>\n",
       "      <td>[{\"cast_id\": 4, \"character\": \"Captain Jack Spa...</td>\n",
       "      <td>[{\"credit_id\": \"52fe4232c3a36847f800b579\", \"de...</td>\n",
       "    </tr>\n",
       "    <tr>\n",
       "      <th>2</th>\n",
       "      <td>206647</td>\n",
       "      <td>Spectre</td>\n",
       "      <td>A cryptic message from Bond’s past sends him o...</td>\n",
       "      <td>[Action, Adventure, Crime]</td>\n",
       "      <td>[{\"id\": 470, \"name\": \"spy\"}, {\"id\": 818, \"name...</td>\n",
       "      <td>[{\"cast_id\": 1, \"character\": \"James Bond\", \"cr...</td>\n",
       "      <td>[{\"credit_id\": \"54805967c3a36829b5002c41\", \"de...</td>\n",
       "    </tr>\n",
       "    <tr>\n",
       "      <th>3</th>\n",
       "      <td>49026</td>\n",
       "      <td>The Dark Knight Rises</td>\n",
       "      <td>Following the death of District Attorney Harve...</td>\n",
       "      <td>[Action, Crime, Drama, Thriller]</td>\n",
       "      <td>[{\"id\": 849, \"name\": \"dc comics\"}, {\"id\": 853,...</td>\n",
       "      <td>[{\"cast_id\": 2, \"character\": \"Bruce Wayne / Ba...</td>\n",
       "      <td>[{\"credit_id\": \"52fe4781c3a36847f81398c3\", \"de...</td>\n",
       "    </tr>\n",
       "    <tr>\n",
       "      <th>4</th>\n",
       "      <td>49529</td>\n",
       "      <td>John Carter</td>\n",
       "      <td>John Carter is a war-weary, former military ca...</td>\n",
       "      <td>[Action, Adventure, Science Fiction]</td>\n",
       "      <td>[{\"id\": 818, \"name\": \"based on novel\"}, {\"id\":...</td>\n",
       "      <td>[{\"cast_id\": 5, \"character\": \"John Carter\", \"c...</td>\n",
       "      <td>[{\"credit_id\": \"52fe479ac3a36847f813eaa3\", \"de...</td>\n",
       "    </tr>\n",
       "  </tbody>\n",
       "</table>\n",
       "</div>"
      ],
      "text/plain": [
       "   movie_id                                     title  \\\n",
       "0     19995                                    Avatar   \n",
       "1       285  Pirates of the Caribbean: At World's End   \n",
       "2    206647                                   Spectre   \n",
       "3     49026                     The Dark Knight Rises   \n",
       "4     49529                               John Carter   \n",
       "\n",
       "                                            overview  \\\n",
       "0  In the 22nd century, a paraplegic Marine is di...   \n",
       "1  Captain Barbossa, long believed to be dead, ha...   \n",
       "2  A cryptic message from Bond’s past sends him o...   \n",
       "3  Following the death of District Attorney Harve...   \n",
       "4  John Carter is a war-weary, former military ca...   \n",
       "\n",
       "                                          genres  \\\n",
       "0  [Action, Adventure, Fantasy, Science Fiction]   \n",
       "1                   [Adventure, Fantasy, Action]   \n",
       "2                     [Action, Adventure, Crime]   \n",
       "3               [Action, Crime, Drama, Thriller]   \n",
       "4           [Action, Adventure, Science Fiction]   \n",
       "\n",
       "                                            keywords  \\\n",
       "0  [{\"id\": 1463, \"name\": \"culture clash\"}, {\"id\":...   \n",
       "1  [{\"id\": 270, \"name\": \"ocean\"}, {\"id\": 726, \"na...   \n",
       "2  [{\"id\": 470, \"name\": \"spy\"}, {\"id\": 818, \"name...   \n",
       "3  [{\"id\": 849, \"name\": \"dc comics\"}, {\"id\": 853,...   \n",
       "4  [{\"id\": 818, \"name\": \"based on novel\"}, {\"id\":...   \n",
       "\n",
       "                                                cast  \\\n",
       "0  [{\"cast_id\": 242, \"character\": \"Jake Sully\", \"...   \n",
       "1  [{\"cast_id\": 4, \"character\": \"Captain Jack Spa...   \n",
       "2  [{\"cast_id\": 1, \"character\": \"James Bond\", \"cr...   \n",
       "3  [{\"cast_id\": 2, \"character\": \"Bruce Wayne / Ba...   \n",
       "4  [{\"cast_id\": 5, \"character\": \"John Carter\", \"c...   \n",
       "\n",
       "                                                crew  \n",
       "0  [{\"credit_id\": \"52fe48009251416c750aca23\", \"de...  \n",
       "1  [{\"credit_id\": \"52fe4232c3a36847f800b579\", \"de...  \n",
       "2  [{\"credit_id\": \"54805967c3a36829b5002c41\", \"de...  \n",
       "3  [{\"credit_id\": \"52fe4781c3a36847f81398c3\", \"de...  \n",
       "4  [{\"credit_id\": \"52fe479ac3a36847f813eaa3\", \"de...  "
      ]
     },
     "execution_count": 14,
     "metadata": {},
     "output_type": "execute_result"
    }
   ],
   "source": [
    "movies['genres'] = movies['genres'].apply(convert)\n",
    "movies.head()"
   ]
  },
  {
   "cell_type": "code",
   "execution_count": 15,
   "id": "72b3b231",
   "metadata": {
    "execution": {
     "iopub.execute_input": "2025-07-23T15:53:47.692736Z",
     "iopub.status.busy": "2025-07-23T15:53:47.692405Z",
     "iopub.status.idle": "2025-07-23T15:53:48.120549Z",
     "shell.execute_reply": "2025-07-23T15:53:48.119207Z"
    },
    "papermill": {
     "duration": 0.439905,
     "end_time": "2025-07-23T15:53:48.122214",
     "exception": false,
     "start_time": "2025-07-23T15:53:47.682309",
     "status": "completed"
    },
    "tags": []
   },
   "outputs": [
    {
     "data": {
      "text/html": [
       "<div>\n",
       "<style scoped>\n",
       "    .dataframe tbody tr th:only-of-type {\n",
       "        vertical-align: middle;\n",
       "    }\n",
       "\n",
       "    .dataframe tbody tr th {\n",
       "        vertical-align: top;\n",
       "    }\n",
       "\n",
       "    .dataframe thead th {\n",
       "        text-align: right;\n",
       "    }\n",
       "</style>\n",
       "<table border=\"1\" class=\"dataframe\">\n",
       "  <thead>\n",
       "    <tr style=\"text-align: right;\">\n",
       "      <th></th>\n",
       "      <th>movie_id</th>\n",
       "      <th>title</th>\n",
       "      <th>overview</th>\n",
       "      <th>genres</th>\n",
       "      <th>keywords</th>\n",
       "      <th>cast</th>\n",
       "      <th>crew</th>\n",
       "    </tr>\n",
       "  </thead>\n",
       "  <tbody>\n",
       "    <tr>\n",
       "      <th>0</th>\n",
       "      <td>19995</td>\n",
       "      <td>Avatar</td>\n",
       "      <td>In the 22nd century, a paraplegic Marine is di...</td>\n",
       "      <td>[Action, Adventure, Fantasy, Science Fiction]</td>\n",
       "      <td>[culture clash, future, space war, space colon...</td>\n",
       "      <td>[{\"cast_id\": 242, \"character\": \"Jake Sully\", \"...</td>\n",
       "      <td>[{\"credit_id\": \"52fe48009251416c750aca23\", \"de...</td>\n",
       "    </tr>\n",
       "    <tr>\n",
       "      <th>1</th>\n",
       "      <td>285</td>\n",
       "      <td>Pirates of the Caribbean: At World's End</td>\n",
       "      <td>Captain Barbossa, long believed to be dead, ha...</td>\n",
       "      <td>[Adventure, Fantasy, Action]</td>\n",
       "      <td>[ocean, drug abuse, exotic island, east india ...</td>\n",
       "      <td>[{\"cast_id\": 4, \"character\": \"Captain Jack Spa...</td>\n",
       "      <td>[{\"credit_id\": \"52fe4232c3a36847f800b579\", \"de...</td>\n",
       "    </tr>\n",
       "    <tr>\n",
       "      <th>2</th>\n",
       "      <td>206647</td>\n",
       "      <td>Spectre</td>\n",
       "      <td>A cryptic message from Bond’s past sends him o...</td>\n",
       "      <td>[Action, Adventure, Crime]</td>\n",
       "      <td>[spy, based on novel, secret agent, sequel, mi...</td>\n",
       "      <td>[{\"cast_id\": 1, \"character\": \"James Bond\", \"cr...</td>\n",
       "      <td>[{\"credit_id\": \"54805967c3a36829b5002c41\", \"de...</td>\n",
       "    </tr>\n",
       "    <tr>\n",
       "      <th>3</th>\n",
       "      <td>49026</td>\n",
       "      <td>The Dark Knight Rises</td>\n",
       "      <td>Following the death of District Attorney Harve...</td>\n",
       "      <td>[Action, Crime, Drama, Thriller]</td>\n",
       "      <td>[dc comics, crime fighter, terrorist, secret i...</td>\n",
       "      <td>[{\"cast_id\": 2, \"character\": \"Bruce Wayne / Ba...</td>\n",
       "      <td>[{\"credit_id\": \"52fe4781c3a36847f81398c3\", \"de...</td>\n",
       "    </tr>\n",
       "    <tr>\n",
       "      <th>4</th>\n",
       "      <td>49529</td>\n",
       "      <td>John Carter</td>\n",
       "      <td>John Carter is a war-weary, former military ca...</td>\n",
       "      <td>[Action, Adventure, Science Fiction]</td>\n",
       "      <td>[based on novel, mars, medallion, space travel...</td>\n",
       "      <td>[{\"cast_id\": 5, \"character\": \"John Carter\", \"c...</td>\n",
       "      <td>[{\"credit_id\": \"52fe479ac3a36847f813eaa3\", \"de...</td>\n",
       "    </tr>\n",
       "  </tbody>\n",
       "</table>\n",
       "</div>"
      ],
      "text/plain": [
       "   movie_id                                     title  \\\n",
       "0     19995                                    Avatar   \n",
       "1       285  Pirates of the Caribbean: At World's End   \n",
       "2    206647                                   Spectre   \n",
       "3     49026                     The Dark Knight Rises   \n",
       "4     49529                               John Carter   \n",
       "\n",
       "                                            overview  \\\n",
       "0  In the 22nd century, a paraplegic Marine is di...   \n",
       "1  Captain Barbossa, long believed to be dead, ha...   \n",
       "2  A cryptic message from Bond’s past sends him o...   \n",
       "3  Following the death of District Attorney Harve...   \n",
       "4  John Carter is a war-weary, former military ca...   \n",
       "\n",
       "                                          genres  \\\n",
       "0  [Action, Adventure, Fantasy, Science Fiction]   \n",
       "1                   [Adventure, Fantasy, Action]   \n",
       "2                     [Action, Adventure, Crime]   \n",
       "3               [Action, Crime, Drama, Thriller]   \n",
       "4           [Action, Adventure, Science Fiction]   \n",
       "\n",
       "                                            keywords  \\\n",
       "0  [culture clash, future, space war, space colon...   \n",
       "1  [ocean, drug abuse, exotic island, east india ...   \n",
       "2  [spy, based on novel, secret agent, sequel, mi...   \n",
       "3  [dc comics, crime fighter, terrorist, secret i...   \n",
       "4  [based on novel, mars, medallion, space travel...   \n",
       "\n",
       "                                                cast  \\\n",
       "0  [{\"cast_id\": 242, \"character\": \"Jake Sully\", \"...   \n",
       "1  [{\"cast_id\": 4, \"character\": \"Captain Jack Spa...   \n",
       "2  [{\"cast_id\": 1, \"character\": \"James Bond\", \"cr...   \n",
       "3  [{\"cast_id\": 2, \"character\": \"Bruce Wayne / Ba...   \n",
       "4  [{\"cast_id\": 5, \"character\": \"John Carter\", \"c...   \n",
       "\n",
       "                                                crew  \n",
       "0  [{\"credit_id\": \"52fe48009251416c750aca23\", \"de...  \n",
       "1  [{\"credit_id\": \"52fe4232c3a36847f800b579\", \"de...  \n",
       "2  [{\"credit_id\": \"54805967c3a36829b5002c41\", \"de...  \n",
       "3  [{\"credit_id\": \"52fe4781c3a36847f81398c3\", \"de...  \n",
       "4  [{\"credit_id\": \"52fe479ac3a36847f813eaa3\", \"de...  "
      ]
     },
     "execution_count": 15,
     "metadata": {},
     "output_type": "execute_result"
    }
   ],
   "source": [
    "movies['keywords'] = movies['keywords'].apply(convert)\n",
    "movies.head()"
   ]
  },
  {
   "cell_type": "code",
   "execution_count": 16,
   "id": "4bdc737f",
   "metadata": {
    "execution": {
     "iopub.execute_input": "2025-07-23T15:53:48.143132Z",
     "iopub.status.busy": "2025-07-23T15:53:48.142809Z",
     "iopub.status.idle": "2025-07-23T15:53:48.149247Z",
     "shell.execute_reply": "2025-07-23T15:53:48.148221Z"
    },
    "papermill": {
     "duration": 0.018026,
     "end_time": "2025-07-23T15:53:48.150670",
     "exception": false,
     "start_time": "2025-07-23T15:53:48.132644",
     "status": "completed"
    },
    "tags": []
   },
   "outputs": [
    {
     "data": {
      "text/plain": [
       "[{'id': 28, 'name': 'Action'},\n",
       " {'id': 12, 'name': 'Adventure'},\n",
       " {'id': 14, 'name': 'Fantasy'},\n",
       " {'id': 878, 'name': 'Science Fiction'}]"
      ]
     },
     "execution_count": 16,
     "metadata": {},
     "output_type": "execute_result"
    }
   ],
   "source": [
    "import ast\n",
    "ast.literal_eval('[{\"id\": 28, \"name\": \"Action\"}, {\"id\": 12, \"name\": \"Adventure\"}, {\"id\": 14, \"name\": \"Fantasy\"}, {\"id\": 878, \"name\": \"Science Fiction\"}]')"
   ]
  },
  {
   "cell_type": "code",
   "execution_count": 17,
   "id": "0e425be6",
   "metadata": {
    "execution": {
     "iopub.execute_input": "2025-07-23T15:53:48.171231Z",
     "iopub.status.busy": "2025-07-23T15:53:48.170938Z",
     "iopub.status.idle": "2025-07-23T15:53:48.175830Z",
     "shell.execute_reply": "2025-07-23T15:53:48.174911Z"
    },
    "papermill": {
     "duration": 0.017101,
     "end_time": "2025-07-23T15:53:48.177447",
     "exception": false,
     "start_time": "2025-07-23T15:53:48.160346",
     "status": "completed"
    },
    "tags": []
   },
   "outputs": [],
   "source": [
    "def convert3(text):\n",
    "    L = []\n",
    "    counter = 0\n",
    "    for i in ast.literal_eval(text):\n",
    "        if counter < 3:\n",
    "            L.append(i['name'])\n",
    "        counter+=1\n",
    "    return L "
   ]
  },
  {
   "cell_type": "code",
   "execution_count": 18,
   "id": "7d6e9331",
   "metadata": {
    "execution": {
     "iopub.execute_input": "2025-07-23T15:53:48.198151Z",
     "iopub.status.busy": "2025-07-23T15:53:48.197695Z",
     "iopub.status.idle": "2025-07-23T15:53:51.600917Z",
     "shell.execute_reply": "2025-07-23T15:53:51.600036Z"
    },
    "papermill": {
     "duration": 3.415479,
     "end_time": "2025-07-23T15:53:51.602607",
     "exception": false,
     "start_time": "2025-07-23T15:53:48.187128",
     "status": "completed"
    },
    "tags": []
   },
   "outputs": [
    {
     "data": {
      "text/html": [
       "<div>\n",
       "<style scoped>\n",
       "    .dataframe tbody tr th:only-of-type {\n",
       "        vertical-align: middle;\n",
       "    }\n",
       "\n",
       "    .dataframe tbody tr th {\n",
       "        vertical-align: top;\n",
       "    }\n",
       "\n",
       "    .dataframe thead th {\n",
       "        text-align: right;\n",
       "    }\n",
       "</style>\n",
       "<table border=\"1\" class=\"dataframe\">\n",
       "  <thead>\n",
       "    <tr style=\"text-align: right;\">\n",
       "      <th></th>\n",
       "      <th>movie_id</th>\n",
       "      <th>title</th>\n",
       "      <th>overview</th>\n",
       "      <th>genres</th>\n",
       "      <th>keywords</th>\n",
       "      <th>cast</th>\n",
       "      <th>crew</th>\n",
       "    </tr>\n",
       "  </thead>\n",
       "  <tbody>\n",
       "    <tr>\n",
       "      <th>0</th>\n",
       "      <td>19995</td>\n",
       "      <td>Avatar</td>\n",
       "      <td>In the 22nd century, a paraplegic Marine is di...</td>\n",
       "      <td>[Action, Adventure, Fantasy, Science Fiction]</td>\n",
       "      <td>[culture clash, future, space war, space colon...</td>\n",
       "      <td>[Sam Worthington, Zoe Saldana, Sigourney Weave...</td>\n",
       "      <td>[{\"credit_id\": \"52fe48009251416c750aca23\", \"de...</td>\n",
       "    </tr>\n",
       "    <tr>\n",
       "      <th>1</th>\n",
       "      <td>285</td>\n",
       "      <td>Pirates of the Caribbean: At World's End</td>\n",
       "      <td>Captain Barbossa, long believed to be dead, ha...</td>\n",
       "      <td>[Adventure, Fantasy, Action]</td>\n",
       "      <td>[ocean, drug abuse, exotic island, east india ...</td>\n",
       "      <td>[Johnny Depp, Orlando Bloom, Keira Knightley, ...</td>\n",
       "      <td>[{\"credit_id\": \"52fe4232c3a36847f800b579\", \"de...</td>\n",
       "    </tr>\n",
       "    <tr>\n",
       "      <th>2</th>\n",
       "      <td>206647</td>\n",
       "      <td>Spectre</td>\n",
       "      <td>A cryptic message from Bond’s past sends him o...</td>\n",
       "      <td>[Action, Adventure, Crime]</td>\n",
       "      <td>[spy, based on novel, secret agent, sequel, mi...</td>\n",
       "      <td>[Daniel Craig, Christoph Waltz, Léa Seydoux, R...</td>\n",
       "      <td>[{\"credit_id\": \"54805967c3a36829b5002c41\", \"de...</td>\n",
       "    </tr>\n",
       "    <tr>\n",
       "      <th>3</th>\n",
       "      <td>49026</td>\n",
       "      <td>The Dark Knight Rises</td>\n",
       "      <td>Following the death of District Attorney Harve...</td>\n",
       "      <td>[Action, Crime, Drama, Thriller]</td>\n",
       "      <td>[dc comics, crime fighter, terrorist, secret i...</td>\n",
       "      <td>[Christian Bale, Michael Caine, Gary Oldman, A...</td>\n",
       "      <td>[{\"credit_id\": \"52fe4781c3a36847f81398c3\", \"de...</td>\n",
       "    </tr>\n",
       "    <tr>\n",
       "      <th>4</th>\n",
       "      <td>49529</td>\n",
       "      <td>John Carter</td>\n",
       "      <td>John Carter is a war-weary, former military ca...</td>\n",
       "      <td>[Action, Adventure, Science Fiction]</td>\n",
       "      <td>[based on novel, mars, medallion, space travel...</td>\n",
       "      <td>[Taylor Kitsch, Lynn Collins, Samantha Morton,...</td>\n",
       "      <td>[{\"credit_id\": \"52fe479ac3a36847f813eaa3\", \"de...</td>\n",
       "    </tr>\n",
       "  </tbody>\n",
       "</table>\n",
       "</div>"
      ],
      "text/plain": [
       "   movie_id                                     title  \\\n",
       "0     19995                                    Avatar   \n",
       "1       285  Pirates of the Caribbean: At World's End   \n",
       "2    206647                                   Spectre   \n",
       "3     49026                     The Dark Knight Rises   \n",
       "4     49529                               John Carter   \n",
       "\n",
       "                                            overview  \\\n",
       "0  In the 22nd century, a paraplegic Marine is di...   \n",
       "1  Captain Barbossa, long believed to be dead, ha...   \n",
       "2  A cryptic message from Bond’s past sends him o...   \n",
       "3  Following the death of District Attorney Harve...   \n",
       "4  John Carter is a war-weary, former military ca...   \n",
       "\n",
       "                                          genres  \\\n",
       "0  [Action, Adventure, Fantasy, Science Fiction]   \n",
       "1                   [Adventure, Fantasy, Action]   \n",
       "2                     [Action, Adventure, Crime]   \n",
       "3               [Action, Crime, Drama, Thriller]   \n",
       "4           [Action, Adventure, Science Fiction]   \n",
       "\n",
       "                                            keywords  \\\n",
       "0  [culture clash, future, space war, space colon...   \n",
       "1  [ocean, drug abuse, exotic island, east india ...   \n",
       "2  [spy, based on novel, secret agent, sequel, mi...   \n",
       "3  [dc comics, crime fighter, terrorist, secret i...   \n",
       "4  [based on novel, mars, medallion, space travel...   \n",
       "\n",
       "                                                cast  \\\n",
       "0  [Sam Worthington, Zoe Saldana, Sigourney Weave...   \n",
       "1  [Johnny Depp, Orlando Bloom, Keira Knightley, ...   \n",
       "2  [Daniel Craig, Christoph Waltz, Léa Seydoux, R...   \n",
       "3  [Christian Bale, Michael Caine, Gary Oldman, A...   \n",
       "4  [Taylor Kitsch, Lynn Collins, Samantha Morton,...   \n",
       "\n",
       "                                                crew  \n",
       "0  [{\"credit_id\": \"52fe48009251416c750aca23\", \"de...  \n",
       "1  [{\"credit_id\": \"52fe4232c3a36847f800b579\", \"de...  \n",
       "2  [{\"credit_id\": \"54805967c3a36829b5002c41\", \"de...  \n",
       "3  [{\"credit_id\": \"52fe4781c3a36847f81398c3\", \"de...  \n",
       "4  [{\"credit_id\": \"52fe479ac3a36847f813eaa3\", \"de...  "
      ]
     },
     "execution_count": 18,
     "metadata": {},
     "output_type": "execute_result"
    }
   ],
   "source": [
    "movies['cast'] = movies['cast'].apply(convert)\n",
    "movies.head()"
   ]
  },
  {
   "cell_type": "code",
   "execution_count": 19,
   "id": "391d0645",
   "metadata": {
    "execution": {
     "iopub.execute_input": "2025-07-23T15:53:51.623483Z",
     "iopub.status.busy": "2025-07-23T15:53:51.623140Z",
     "iopub.status.idle": "2025-07-23T15:53:51.631337Z",
     "shell.execute_reply": "2025-07-23T15:53:51.630453Z"
    },
    "papermill": {
     "duration": 0.020437,
     "end_time": "2025-07-23T15:53:51.632938",
     "exception": false,
     "start_time": "2025-07-23T15:53:51.612501",
     "status": "completed"
    },
    "tags": []
   },
   "outputs": [],
   "source": [
    "movies['cast'] = movies['cast'].apply(lambda x:x[0:3])"
   ]
  },
  {
   "cell_type": "code",
   "execution_count": 20,
   "id": "2b2d56fd",
   "metadata": {
    "execution": {
     "iopub.execute_input": "2025-07-23T15:53:51.653783Z",
     "iopub.status.busy": "2025-07-23T15:53:51.653487Z",
     "iopub.status.idle": "2025-07-23T15:53:51.658331Z",
     "shell.execute_reply": "2025-07-23T15:53:51.657470Z"
    },
    "papermill": {
     "duration": 0.017296,
     "end_time": "2025-07-23T15:53:51.660083",
     "exception": false,
     "start_time": "2025-07-23T15:53:51.642787",
     "status": "completed"
    },
    "tags": []
   },
   "outputs": [],
   "source": [
    "def fetch_director(text):\n",
    "    L = []\n",
    "    for i in ast.literal_eval(text):\n",
    "        if i['job'] == 'Director':\n",
    "            L.append(i['name'])\n",
    "    return L "
   ]
  },
  {
   "cell_type": "code",
   "execution_count": 21,
   "id": "bfb6fd08",
   "metadata": {
    "execution": {
     "iopub.execute_input": "2025-07-23T15:53:51.682986Z",
     "iopub.status.busy": "2025-07-23T15:53:51.682267Z",
     "iopub.status.idle": "2025-07-23T15:53:55.586525Z",
     "shell.execute_reply": "2025-07-23T15:53:55.585558Z"
    },
    "papermill": {
     "duration": 3.91754,
     "end_time": "2025-07-23T15:53:55.588340",
     "exception": false,
     "start_time": "2025-07-23T15:53:51.670800",
     "status": "completed"
    },
    "tags": []
   },
   "outputs": [],
   "source": [
    "movies['crew'] = movies['crew'].apply(fetch_director)"
   ]
  },
  {
   "cell_type": "code",
   "execution_count": 22,
   "id": "9577ab45",
   "metadata": {
    "execution": {
     "iopub.execute_input": "2025-07-23T15:53:55.608953Z",
     "iopub.status.busy": "2025-07-23T15:53:55.608667Z",
     "iopub.status.idle": "2025-07-23T15:53:55.613341Z",
     "shell.execute_reply": "2025-07-23T15:53:55.612561Z"
    },
    "papermill": {
     "duration": 0.016506,
     "end_time": "2025-07-23T15:53:55.614859",
     "exception": false,
     "start_time": "2025-07-23T15:53:55.598353",
     "status": "completed"
    },
    "tags": []
   },
   "outputs": [],
   "source": [
    "def collapse(L):\n",
    "    L1 = []\n",
    "    for i in L:\n",
    "        L1.append(i.replace(\" \",\"\"))\n",
    "    return L1"
   ]
  },
  {
   "cell_type": "code",
   "execution_count": 23,
   "id": "3353fb6e",
   "metadata": {
    "execution": {
     "iopub.execute_input": "2025-07-23T15:53:55.636310Z",
     "iopub.status.busy": "2025-07-23T15:53:55.635308Z",
     "iopub.status.idle": "2025-07-23T15:53:55.763429Z",
     "shell.execute_reply": "2025-07-23T15:53:55.762584Z"
    },
    "papermill": {
     "duration": 0.140278,
     "end_time": "2025-07-23T15:53:55.765110",
     "exception": false,
     "start_time": "2025-07-23T15:53:55.624832",
     "status": "completed"
    },
    "tags": []
   },
   "outputs": [],
   "source": [
    "movies['cast'] = movies['cast'].apply(collapse)\n",
    "movies['crew'] = movies['crew'].apply(collapse)\n",
    "movies['genres'] = movies['genres'].apply(collapse)\n",
    "movies['keywords'] = movies['keywords'].apply(collapse)"
   ]
  },
  {
   "cell_type": "code",
   "execution_count": 24,
   "id": "a55c429f",
   "metadata": {
    "execution": {
     "iopub.execute_input": "2025-07-23T15:53:55.786084Z",
     "iopub.status.busy": "2025-07-23T15:53:55.785668Z",
     "iopub.status.idle": "2025-07-23T15:53:55.801421Z",
     "shell.execute_reply": "2025-07-23T15:53:55.800473Z"
    },
    "papermill": {
     "duration": 0.027989,
     "end_time": "2025-07-23T15:53:55.803010",
     "exception": false,
     "start_time": "2025-07-23T15:53:55.775021",
     "status": "completed"
    },
    "tags": []
   },
   "outputs": [
    {
     "data": {
      "text/html": [
       "<div>\n",
       "<style scoped>\n",
       "    .dataframe tbody tr th:only-of-type {\n",
       "        vertical-align: middle;\n",
       "    }\n",
       "\n",
       "    .dataframe tbody tr th {\n",
       "        vertical-align: top;\n",
       "    }\n",
       "\n",
       "    .dataframe thead th {\n",
       "        text-align: right;\n",
       "    }\n",
       "</style>\n",
       "<table border=\"1\" class=\"dataframe\">\n",
       "  <thead>\n",
       "    <tr style=\"text-align: right;\">\n",
       "      <th></th>\n",
       "      <th>movie_id</th>\n",
       "      <th>title</th>\n",
       "      <th>overview</th>\n",
       "      <th>genres</th>\n",
       "      <th>keywords</th>\n",
       "      <th>cast</th>\n",
       "      <th>crew</th>\n",
       "    </tr>\n",
       "  </thead>\n",
       "  <tbody>\n",
       "    <tr>\n",
       "      <th>0</th>\n",
       "      <td>19995</td>\n",
       "      <td>Avatar</td>\n",
       "      <td>In the 22nd century, a paraplegic Marine is di...</td>\n",
       "      <td>[Action, Adventure, Fantasy, ScienceFiction]</td>\n",
       "      <td>[cultureclash, future, spacewar, spacecolony, ...</td>\n",
       "      <td>[SamWorthington, ZoeSaldana, SigourneyWeaver]</td>\n",
       "      <td>[JamesCameron]</td>\n",
       "    </tr>\n",
       "    <tr>\n",
       "      <th>1</th>\n",
       "      <td>285</td>\n",
       "      <td>Pirates of the Caribbean: At World's End</td>\n",
       "      <td>Captain Barbossa, long believed to be dead, ha...</td>\n",
       "      <td>[Adventure, Fantasy, Action]</td>\n",
       "      <td>[ocean, drugabuse, exoticisland, eastindiatrad...</td>\n",
       "      <td>[JohnnyDepp, OrlandoBloom, KeiraKnightley]</td>\n",
       "      <td>[GoreVerbinski]</td>\n",
       "    </tr>\n",
       "    <tr>\n",
       "      <th>2</th>\n",
       "      <td>206647</td>\n",
       "      <td>Spectre</td>\n",
       "      <td>A cryptic message from Bond’s past sends him o...</td>\n",
       "      <td>[Action, Adventure, Crime]</td>\n",
       "      <td>[spy, basedonnovel, secretagent, sequel, mi6, ...</td>\n",
       "      <td>[DanielCraig, ChristophWaltz, LéaSeydoux]</td>\n",
       "      <td>[SamMendes]</td>\n",
       "    </tr>\n",
       "    <tr>\n",
       "      <th>3</th>\n",
       "      <td>49026</td>\n",
       "      <td>The Dark Knight Rises</td>\n",
       "      <td>Following the death of District Attorney Harve...</td>\n",
       "      <td>[Action, Crime, Drama, Thriller]</td>\n",
       "      <td>[dccomics, crimefighter, terrorist, secretiden...</td>\n",
       "      <td>[ChristianBale, MichaelCaine, GaryOldman]</td>\n",
       "      <td>[ChristopherNolan]</td>\n",
       "    </tr>\n",
       "    <tr>\n",
       "      <th>4</th>\n",
       "      <td>49529</td>\n",
       "      <td>John Carter</td>\n",
       "      <td>John Carter is a war-weary, former military ca...</td>\n",
       "      <td>[Action, Adventure, ScienceFiction]</td>\n",
       "      <td>[basedonnovel, mars, medallion, spacetravel, p...</td>\n",
       "      <td>[TaylorKitsch, LynnCollins, SamanthaMorton]</td>\n",
       "      <td>[AndrewStanton]</td>\n",
       "    </tr>\n",
       "  </tbody>\n",
       "</table>\n",
       "</div>"
      ],
      "text/plain": [
       "   movie_id                                     title  \\\n",
       "0     19995                                    Avatar   \n",
       "1       285  Pirates of the Caribbean: At World's End   \n",
       "2    206647                                   Spectre   \n",
       "3     49026                     The Dark Knight Rises   \n",
       "4     49529                               John Carter   \n",
       "\n",
       "                                            overview  \\\n",
       "0  In the 22nd century, a paraplegic Marine is di...   \n",
       "1  Captain Barbossa, long believed to be dead, ha...   \n",
       "2  A cryptic message from Bond’s past sends him o...   \n",
       "3  Following the death of District Attorney Harve...   \n",
       "4  John Carter is a war-weary, former military ca...   \n",
       "\n",
       "                                         genres  \\\n",
       "0  [Action, Adventure, Fantasy, ScienceFiction]   \n",
       "1                  [Adventure, Fantasy, Action]   \n",
       "2                    [Action, Adventure, Crime]   \n",
       "3              [Action, Crime, Drama, Thriller]   \n",
       "4           [Action, Adventure, ScienceFiction]   \n",
       "\n",
       "                                            keywords  \\\n",
       "0  [cultureclash, future, spacewar, spacecolony, ...   \n",
       "1  [ocean, drugabuse, exoticisland, eastindiatrad...   \n",
       "2  [spy, basedonnovel, secretagent, sequel, mi6, ...   \n",
       "3  [dccomics, crimefighter, terrorist, secretiden...   \n",
       "4  [basedonnovel, mars, medallion, spacetravel, p...   \n",
       "\n",
       "                                            cast                crew  \n",
       "0  [SamWorthington, ZoeSaldana, SigourneyWeaver]      [JamesCameron]  \n",
       "1     [JohnnyDepp, OrlandoBloom, KeiraKnightley]     [GoreVerbinski]  \n",
       "2      [DanielCraig, ChristophWaltz, LéaSeydoux]         [SamMendes]  \n",
       "3      [ChristianBale, MichaelCaine, GaryOldman]  [ChristopherNolan]  \n",
       "4    [TaylorKitsch, LynnCollins, SamanthaMorton]     [AndrewStanton]  "
      ]
     },
     "execution_count": 24,
     "metadata": {},
     "output_type": "execute_result"
    }
   ],
   "source": [
    "movies.head()"
   ]
  },
  {
   "cell_type": "code",
   "execution_count": 25,
   "id": "582a0cf4",
   "metadata": {
    "execution": {
     "iopub.execute_input": "2025-07-23T15:53:55.824816Z",
     "iopub.status.busy": "2025-07-23T15:53:55.824489Z",
     "iopub.status.idle": "2025-07-23T15:53:55.862322Z",
     "shell.execute_reply": "2025-07-23T15:53:55.861253Z"
    },
    "papermill": {
     "duration": 0.050434,
     "end_time": "2025-07-23T15:53:55.864056",
     "exception": false,
     "start_time": "2025-07-23T15:53:55.813622",
     "status": "completed"
    },
    "tags": []
   },
   "outputs": [],
   "source": [
    "movies['overview'] = movies['overview'].apply(lambda x:x.split())"
   ]
  },
  {
   "cell_type": "code",
   "execution_count": 26,
   "id": "d4c6e1ed",
   "metadata": {
    "execution": {
     "iopub.execute_input": "2025-07-23T15:53:55.885503Z",
     "iopub.status.busy": "2025-07-23T15:53:55.885147Z",
     "iopub.status.idle": "2025-07-23T15:53:55.952788Z",
     "shell.execute_reply": "2025-07-23T15:53:55.951868Z"
    },
    "papermill": {
     "duration": 0.08009,
     "end_time": "2025-07-23T15:53:55.954348",
     "exception": false,
     "start_time": "2025-07-23T15:53:55.874258",
     "status": "completed"
    },
    "tags": []
   },
   "outputs": [],
   "source": [
    "movies['tags'] = movies['overview'] + movies['genres'] + movies['keywords'] + movies['cast'] + movies['crew']"
   ]
  },
  {
   "cell_type": "code",
   "execution_count": 27,
   "id": "44b78530",
   "metadata": {
    "execution": {
     "iopub.execute_input": "2025-07-23T15:53:55.975476Z",
     "iopub.status.busy": "2025-07-23T15:53:55.975130Z",
     "iopub.status.idle": "2025-07-23T15:53:55.980856Z",
     "shell.execute_reply": "2025-07-23T15:53:55.979885Z"
    },
    "papermill": {
     "duration": 0.018025,
     "end_time": "2025-07-23T15:53:55.982268",
     "exception": false,
     "start_time": "2025-07-23T15:53:55.964243",
     "status": "completed"
    },
    "tags": []
   },
   "outputs": [],
   "source": [
    "new = movies.drop(columns=['overview','genres','keywords','cast','crew'])\n",
    "#new.head()"
   ]
  },
  {
   "cell_type": "code",
   "execution_count": 28,
   "id": "9d844ba9",
   "metadata": {
    "execution": {
     "iopub.execute_input": "2025-07-23T15:53:56.003169Z",
     "iopub.status.busy": "2025-07-23T15:53:56.002850Z",
     "iopub.status.idle": "2025-07-23T15:53:56.024851Z",
     "shell.execute_reply": "2025-07-23T15:53:56.023935Z"
    },
    "papermill": {
     "duration": 0.034126,
     "end_time": "2025-07-23T15:53:56.026335",
     "exception": false,
     "start_time": "2025-07-23T15:53:55.992209",
     "status": "completed"
    },
    "tags": []
   },
   "outputs": [
    {
     "data": {
      "text/html": [
       "<div>\n",
       "<style scoped>\n",
       "    .dataframe tbody tr th:only-of-type {\n",
       "        vertical-align: middle;\n",
       "    }\n",
       "\n",
       "    .dataframe tbody tr th {\n",
       "        vertical-align: top;\n",
       "    }\n",
       "\n",
       "    .dataframe thead th {\n",
       "        text-align: right;\n",
       "    }\n",
       "</style>\n",
       "<table border=\"1\" class=\"dataframe\">\n",
       "  <thead>\n",
       "    <tr style=\"text-align: right;\">\n",
       "      <th></th>\n",
       "      <th>movie_id</th>\n",
       "      <th>title</th>\n",
       "      <th>tags</th>\n",
       "    </tr>\n",
       "  </thead>\n",
       "  <tbody>\n",
       "    <tr>\n",
       "      <th>0</th>\n",
       "      <td>19995</td>\n",
       "      <td>Avatar</td>\n",
       "      <td>In the 22nd century, a paraplegic Marine is di...</td>\n",
       "    </tr>\n",
       "    <tr>\n",
       "      <th>1</th>\n",
       "      <td>285</td>\n",
       "      <td>Pirates of the Caribbean: At World's End</td>\n",
       "      <td>Captain Barbossa, long believed to be dead, ha...</td>\n",
       "    </tr>\n",
       "    <tr>\n",
       "      <th>2</th>\n",
       "      <td>206647</td>\n",
       "      <td>Spectre</td>\n",
       "      <td>A cryptic message from Bond’s past sends him o...</td>\n",
       "    </tr>\n",
       "    <tr>\n",
       "      <th>3</th>\n",
       "      <td>49026</td>\n",
       "      <td>The Dark Knight Rises</td>\n",
       "      <td>Following the death of District Attorney Harve...</td>\n",
       "    </tr>\n",
       "    <tr>\n",
       "      <th>4</th>\n",
       "      <td>49529</td>\n",
       "      <td>John Carter</td>\n",
       "      <td>John Carter is a war-weary, former military ca...</td>\n",
       "    </tr>\n",
       "  </tbody>\n",
       "</table>\n",
       "</div>"
      ],
      "text/plain": [
       "   movie_id                                     title  \\\n",
       "0     19995                                    Avatar   \n",
       "1       285  Pirates of the Caribbean: At World's End   \n",
       "2    206647                                   Spectre   \n",
       "3     49026                     The Dark Knight Rises   \n",
       "4     49529                               John Carter   \n",
       "\n",
       "                                                tags  \n",
       "0  In the 22nd century, a paraplegic Marine is di...  \n",
       "1  Captain Barbossa, long believed to be dead, ha...  \n",
       "2  A cryptic message from Bond’s past sends him o...  \n",
       "3  Following the death of District Attorney Harve...  \n",
       "4  John Carter is a war-weary, former military ca...  "
      ]
     },
     "execution_count": 28,
     "metadata": {},
     "output_type": "execute_result"
    }
   ],
   "source": [
    "new['tags'] = new['tags'].apply(lambda x: \" \".join(x))\n",
    "new.head()"
   ]
  },
  {
   "cell_type": "markdown",
   "id": "0431fdc5",
   "metadata": {
    "papermill": {
     "duration": 0.011499,
     "end_time": "2025-07-23T15:53:56.047927",
     "exception": false,
     "start_time": "2025-07-23T15:53:56.036428",
     "status": "completed"
    },
    "tags": []
   },
   "source": [
    "<h2 style=\"font-weight:bold; text-align:center; padding:20px; border:4px solid green; border-radius:30px; background-color:#fffde7;\">\n",
    "🧠 Text Vectorization Using CountVectorizer\n",
    "</h2>"
   ]
  },
  {
   "cell_type": "markdown",
   "id": "4f39164e",
   "metadata": {
    "papermill": {
     "duration": 0.00966,
     "end_time": "2025-07-23T15:53:56.067688",
     "exception": false,
     "start_time": "2025-07-23T15:53:56.058028",
     "status": "completed"
    },
    "tags": []
   },
   "source": [
    "<!DOCTYPE html>\n",
    "<html lang=\"en\">\n",
    "<head>\n",
    "  <meta charset=\"UTF-8\">\n",
    "  <title>TF-IDF Explained</title>\n",
    "  <style>\n",
    "    body {\n",
    "      background-color: #fffbea;\n",
    "      font-family: 'Georgia', serif;\n",
    "      padding: 50px;\n",
    "      color: #3e3e3e;\n",
    "    }\n",
    "    h1 {\n",
    "      font-size: 42px;\n",
    "      color: #b8860b;\n",
    "      border-bottom: 4px solid #f7ce5b;\n",
    "      margin-bottom: 25px;\n",
    "    }\n",
    "    .formula-box {\n",
    "      background-color: #fff8dc;\n",
    "      border-left: 10px solid #f0ad4e;\n",
    "      padding: 20px;\n",
    "      font-size: 22px;\n",
    "      margin-bottom: 20px;\n",
    "      border-radius: 8px;\n",
    "    }\n",
    "    .explanation {\n",
    "      font-size: 20px;\n",
    "      line-height: 1.6;\n",
    "      margin-bottom: 30px;\n",
    "    }\n",
    "  </style>\n",
    "</head>\n",
    "<body>\n",
    "\n",
    "  <h1>📘 TF-IDF Formula with Explanation</h1>\n",
    "\n",
    "  <div class=\"formula-box\">\n",
    "    <strong>TF(t,d)</strong> = (Number of times term <em>t</em> appears in document <em>d</em>) / (Total number of terms in <em>d</em>)\n",
    "  </div>\n",
    "  <p class=\"explanation\">\n",
    "    <strong>Term Frequency (TF)</strong> measures how often a specific word appears in a document. The frequency is normalized by dividing the count of the term by the total number of terms in the document, so that longer documents don’t have unfairly high term counts.\n",
    "  </p>\n",
    "\n",
    "  <div class=\"formula-box\">\n",
    "    <strong>IDF(t)</strong> = log (N / (1 + df<sub>t</sub>))\n",
    "  </div>\n",
    "  <p class=\"explanation\">\n",
    "    <strong>Inverse Document Frequency (IDF)</strong> tells us how important a word is across all documents. If a word occurs in many documents, it gets a lower IDF. Words that appear rarely (but are still meaningful) get a higher weight, helping to reduce the influence of commonly used words like “the” or “is”.\n",
    "  </p>\n",
    "\n",
    "  <div class=\"formula-box\">\n",
    "    <strong>TF-IDF(t,d)</strong> = TF(t,d) × IDF(t)\n",
    "  </div>\n",
    "  <p class=\"explanation\">\n",
    "    <strong>TF-IDF</strong> is the product of TF and IDF. It gives higher scores to terms that occur frequently in a document but not across all documents. This makes it useful in keyword extraction, search engines, and text classification to identify relevant terms.\n",
    "  </p>\n",
    "\n",
    "</body>\n",
    "</html>\n"
   ]
  },
  {
   "cell_type": "code",
   "execution_count": 29,
   "id": "89f65ad5",
   "metadata": {
    "execution": {
     "iopub.execute_input": "2025-07-23T15:53:56.089074Z",
     "iopub.status.busy": "2025-07-23T15:53:56.088728Z",
     "iopub.status.idle": "2025-07-23T15:53:56.093603Z",
     "shell.execute_reply": "2025-07-23T15:53:56.092681Z"
    },
    "papermill": {
     "duration": 0.017836,
     "end_time": "2025-07-23T15:53:56.095309",
     "exception": false,
     "start_time": "2025-07-23T15:53:56.077473",
     "status": "completed"
    },
    "tags": []
   },
   "outputs": [],
   "source": [
    "from sklearn.feature_extraction.text import CountVectorizer\n",
    "cv = CountVectorizer(max_features=5000,stop_words='english')\n",
    "    "
   ]
  },
  {
   "cell_type": "code",
   "execution_count": 30,
   "id": "0d39742f",
   "metadata": {
    "execution": {
     "iopub.execute_input": "2025-07-23T15:53:56.117691Z",
     "iopub.status.busy": "2025-07-23T15:53:56.117314Z",
     "iopub.status.idle": "2025-07-23T15:53:56.671122Z",
     "shell.execute_reply": "2025-07-23T15:53:56.670114Z"
    },
    "papermill": {
     "duration": 0.56726,
     "end_time": "2025-07-23T15:53:56.672943",
     "exception": false,
     "start_time": "2025-07-23T15:53:56.105683",
     "status": "completed"
    },
    "tags": []
   },
   "outputs": [],
   "source": [
    "vector = cv.fit_transform(new['tags']).toarray()"
   ]
  },
  {
   "cell_type": "code",
   "execution_count": 31,
   "id": "7e45d6a4",
   "metadata": {
    "execution": {
     "iopub.execute_input": "2025-07-23T15:53:56.695071Z",
     "iopub.status.busy": "2025-07-23T15:53:56.694735Z",
     "iopub.status.idle": "2025-07-23T15:53:56.700571Z",
     "shell.execute_reply": "2025-07-23T15:53:56.699805Z"
    },
    "papermill": {
     "duration": 0.018519,
     "end_time": "2025-07-23T15:53:56.701960",
     "exception": false,
     "start_time": "2025-07-23T15:53:56.683441",
     "status": "completed"
    },
    "tags": []
   },
   "outputs": [
    {
     "data": {
      "text/plain": [
       "(4806, 5000)"
      ]
     },
     "execution_count": 31,
     "metadata": {},
     "output_type": "execute_result"
    }
   ],
   "source": [
    "vector.shape"
   ]
  },
  {
   "cell_type": "markdown",
   "id": "0c8beb25",
   "metadata": {
    "papermill": {
     "duration": 0.009962,
     "end_time": "2025-07-23T15:53:56.722324",
     "exception": false,
     "start_time": "2025-07-23T15:53:56.712362",
     "status": "completed"
    },
    "tags": []
   },
   "source": [
    "<h2 style=\"font-weight:bold; text-align:center; padding:20px; border:4px solid green; border-radius:30px; background-color:#fffde7;\">\n",
    "🔗 Measuring Similarity with Cosine Similarity\n",
    "</h2>"
   ]
  },
  {
   "cell_type": "markdown",
   "id": "29e3cdc8",
   "metadata": {
    "papermill": {
     "duration": 0.009996,
     "end_time": "2025-07-23T15:53:56.742689",
     "exception": false,
     "start_time": "2025-07-23T15:53:56.732693",
     "status": "completed"
    },
    "tags": []
   },
   "source": [
    "<!DOCTYPE html>\n",
    "<html lang=\"en\">\n",
    "<head>\n",
    "  <meta charset=\"UTF-8\">\n",
    "  <title>Cosine Similarity Explained</title>\n",
    "  <style>\n",
    "    body {\n",
    "      background-color: #fffdf2;\n",
    "      font-family: 'Georgia', serif;\n",
    "      padding: 50px;\n",
    "      color: #3e3e3e;\n",
    "    }\n",
    "    h1 {\n",
    "      font-size: 42px;\n",
    "      color: #d2691e;\n",
    "      border-bottom: 4px solid #f0c36d;\n",
    "      margin-bottom: 25px;\n",
    "    }\n",
    "    .formula-box {\n",
    "      background-color: #fef9e7;\n",
    "      border-left: 10px solid #ffcc00;\n",
    "      padding: 20px;\n",
    "      font-size: 24px;\n",
    "      margin-bottom: 20px;\n",
    "      border-radius: 10px;\n",
    "    }\n",
    "    .explanation {\n",
    "      font-size: 20px;\n",
    "      line-height: 1.6;\n",
    "      margin-bottom: 30px;\n",
    "    }\n",
    "  </style>\n",
    "</head>\n",
    "<body>\n",
    "\n",
    "  <h1>📏 Cosine Similarity Formula with Explanation</h1>\n",
    "\n",
    "  <div class=\"formula-box\">\n",
    "    cos(θ) = (A · B) / (||A|| × ||B||)\n",
    "  </div>\n",
    "  <p class=\"explanation\">\n",
    "    Cosine similarity measures the cosine of the angle between two vectors in a multi-dimensional space. It is commonly used to compare documents in NLP and recommender systems. If the angle is small (cosine value near 1), the vectors are similar.\n",
    "  </p>\n",
    "\n",
    "  <div class=\"formula-box\">\n",
    "    A · B = Σ A<sub>i</sub> × B<sub>i</sub><br>\n",
    "    ||A|| = √(Σ A<sub>i</sub><sup>2</sup>)<br>\n",
    "    ||B|| = √(Σ B<sub>i</sub><sup>2</sup>)\n",
    "  </div>\n",
    "  <p class=\"explanation\">\n",
    "    The dot product (A · B) calculates the numerator, showing overlap between values in vector A and B. The denominator normalizes both vectors by calculating their magnitudes (lengths). Cosine similarity is bounded between -1 and 1, with 1 meaning perfect similarity.\n",
    "  </p>\n",
    "\n",
    "</body>\n",
    "</html>\n"
   ]
  },
  {
   "cell_type": "code",
   "execution_count": 32,
   "id": "0724c6cc",
   "metadata": {
    "execution": {
     "iopub.execute_input": "2025-07-23T15:53:56.764549Z",
     "iopub.status.busy": "2025-07-23T15:53:56.764229Z",
     "iopub.status.idle": "2025-07-23T15:53:56.769015Z",
     "shell.execute_reply": "2025-07-23T15:53:56.768017Z"
    },
    "papermill": {
     "duration": 0.017708,
     "end_time": "2025-07-23T15:53:56.770632",
     "exception": false,
     "start_time": "2025-07-23T15:53:56.752924",
     "status": "completed"
    },
    "tags": []
   },
   "outputs": [],
   "source": [
    "from sklearn.metrics.pairwise import cosine_similarity"
   ]
  },
  {
   "cell_type": "code",
   "execution_count": 33,
   "id": "264ae180",
   "metadata": {
    "execution": {
     "iopub.execute_input": "2025-07-23T15:53:56.792908Z",
     "iopub.status.busy": "2025-07-23T15:53:56.792555Z",
     "iopub.status.idle": "2025-07-23T15:53:58.795800Z",
     "shell.execute_reply": "2025-07-23T15:53:58.794615Z"
    },
    "papermill": {
     "duration": 2.016293,
     "end_time": "2025-07-23T15:53:58.797662",
     "exception": false,
     "start_time": "2025-07-23T15:53:56.781369",
     "status": "completed"
    },
    "tags": []
   },
   "outputs": [],
   "source": [
    "similarity = cosine_similarity(vector)"
   ]
  },
  {
   "cell_type": "code",
   "execution_count": 34,
   "id": "acbe5800",
   "metadata": {
    "execution": {
     "iopub.execute_input": "2025-07-23T15:53:58.819640Z",
     "iopub.status.busy": "2025-07-23T15:53:58.819307Z",
     "iopub.status.idle": "2025-07-23T15:53:58.825785Z",
     "shell.execute_reply": "2025-07-23T15:53:58.824877Z"
    },
    "papermill": {
     "duration": 0.01896,
     "end_time": "2025-07-23T15:53:58.827179",
     "exception": false,
     "start_time": "2025-07-23T15:53:58.808219",
     "status": "completed"
    },
    "tags": []
   },
   "outputs": [
    {
     "data": {
      "text/plain": [
       "array([[1.        , 0.08964215, 0.06071767, ..., 0.02519763, 0.0277885 ,\n",
       "        0.        ],\n",
       "       [0.08964215, 1.        , 0.06350006, ..., 0.02635231, 0.        ,\n",
       "        0.        ],\n",
       "       [0.06071767, 0.06350006, 1.        , ..., 0.02677398, 0.        ,\n",
       "        0.        ],\n",
       "       ...,\n",
       "       [0.02519763, 0.02635231, 0.02677398, ..., 1.        , 0.07352146,\n",
       "        0.04774099],\n",
       "       [0.0277885 , 0.        , 0.        , ..., 0.07352146, 1.        ,\n",
       "        0.05264981],\n",
       "       [0.        , 0.        , 0.        , ..., 0.04774099, 0.05264981,\n",
       "        1.        ]])"
      ]
     },
     "execution_count": 34,
     "metadata": {},
     "output_type": "execute_result"
    }
   ],
   "source": [
    "similarity"
   ]
  },
  {
   "cell_type": "code",
   "execution_count": 35,
   "id": "299b7b9d",
   "metadata": {
    "execution": {
     "iopub.execute_input": "2025-07-23T15:53:58.849789Z",
     "iopub.status.busy": "2025-07-23T15:53:58.849455Z",
     "iopub.status.idle": "2025-07-23T15:53:58.857454Z",
     "shell.execute_reply": "2025-07-23T15:53:58.856354Z"
    },
    "papermill": {
     "duration": 0.021036,
     "end_time": "2025-07-23T15:53:58.859081",
     "exception": false,
     "start_time": "2025-07-23T15:53:58.838045",
     "status": "completed"
    },
    "tags": []
   },
   "outputs": [
    {
     "data": {
      "text/plain": [
       "744"
      ]
     },
     "execution_count": 35,
     "metadata": {},
     "output_type": "execute_result"
    }
   ],
   "source": [
    "new[new['title'] == 'The Lego Movie'].index[0]"
   ]
  },
  {
   "cell_type": "markdown",
   "id": "1a1bf0db",
   "metadata": {
    "papermill": {
     "duration": 0.011187,
     "end_time": "2025-07-23T15:53:58.881612",
     "exception": false,
     "start_time": "2025-07-23T15:53:58.870425",
     "status": "completed"
    },
    "tags": []
   },
   "source": [
    "<h2 style=\"font-weight:bold; text-align:center; padding:20px; border:4px solid green; border-radius:30px; background-color:#fffde7;\">\n",
    "🎯 Movie Recommendation Function\n",
    "</h2>"
   ]
  },
  {
   "cell_type": "code",
   "execution_count": 36,
   "id": "f6c88768",
   "metadata": {
    "execution": {
     "iopub.execute_input": "2025-07-23T15:53:58.904350Z",
     "iopub.status.busy": "2025-07-23T15:53:58.904031Z",
     "iopub.status.idle": "2025-07-23T15:53:58.909812Z",
     "shell.execute_reply": "2025-07-23T15:53:58.908767Z"
    },
    "papermill": {
     "duration": 0.019201,
     "end_time": "2025-07-23T15:53:58.911524",
     "exception": false,
     "start_time": "2025-07-23T15:53:58.892323",
     "status": "completed"
    },
    "tags": []
   },
   "outputs": [],
   "source": [
    "def recommend(movie):\n",
    "    index = new[new['title'] == movie].index[0]\n",
    "    distances = sorted(list(enumerate(similarity[index])),reverse=True,key = lambda x: x[1])\n",
    "    for i in distances[1:6]:\n",
    "        print(new.iloc[i[0]].title)\n",
    "        \n",
    "    "
   ]
  },
  {
   "cell_type": "code",
   "execution_count": 37,
   "id": "c09026c6",
   "metadata": {
    "execution": {
     "iopub.execute_input": "2025-07-23T15:53:58.934012Z",
     "iopub.status.busy": "2025-07-23T15:53:58.933692Z",
     "iopub.status.idle": "2025-07-23T15:53:58.944333Z",
     "shell.execute_reply": "2025-07-23T15:53:58.943295Z"
    },
    "papermill": {
     "duration": 0.0237,
     "end_time": "2025-07-23T15:53:58.945978",
     "exception": false,
     "start_time": "2025-07-23T15:53:58.922278",
     "status": "completed"
    },
    "tags": []
   },
   "outputs": [
    {
     "name": "stdout",
     "output_type": "stream",
     "text": [
      "Gandhi, My Father\n",
      "The Wind That Shakes the Barley\n",
      "A Passage to India\n",
      "Guiana 1838\n",
      "Ramanujan\n"
     ]
    }
   ],
   "source": [
    "recommend('Gandhi')"
   ]
  },
  {
   "cell_type": "markdown",
   "id": "50589163",
   "metadata": {
    "papermill": {
     "duration": 0.010716,
     "end_time": "2025-07-23T15:53:58.967611",
     "exception": false,
     "start_time": "2025-07-23T15:53:58.956895",
     "status": "completed"
    },
    "tags": []
   },
   "source": [
    "<h2 style=\"font-weight:bold; text-align:center; padding:20px; border:4px solid green; border-radius:30px; background-color:#fffde7;\">\n",
    "💾 Saving Recommendation Data for Deployment\n",
    "</h2>"
   ]
  },
  {
   "cell_type": "code",
   "execution_count": 38,
   "id": "e1549388",
   "metadata": {
    "execution": {
     "iopub.execute_input": "2025-07-23T15:53:58.989589Z",
     "iopub.status.busy": "2025-07-23T15:53:58.988971Z",
     "iopub.status.idle": "2025-07-23T15:53:58.993458Z",
     "shell.execute_reply": "2025-07-23T15:53:58.992476Z"
    },
    "papermill": {
     "duration": 0.017351,
     "end_time": "2025-07-23T15:53:58.995164",
     "exception": false,
     "start_time": "2025-07-23T15:53:58.977813",
     "status": "completed"
    },
    "tags": []
   },
   "outputs": [],
   "source": [
    "import pickle"
   ]
  },
  {
   "cell_type": "code",
   "execution_count": 39,
   "id": "e425c777",
   "metadata": {
    "execution": {
     "iopub.execute_input": "2025-07-23T15:53:59.018122Z",
     "iopub.status.busy": "2025-07-23T15:53:59.017808Z",
     "iopub.status.idle": "2025-07-23T15:53:59.329763Z",
     "shell.execute_reply": "2025-07-23T15:53:59.328987Z"
    },
    "papermill": {
     "duration": 0.32516,
     "end_time": "2025-07-23T15:53:59.331529",
     "exception": false,
     "start_time": "2025-07-23T15:53:59.006369",
     "status": "completed"
    },
    "tags": []
   },
   "outputs": [],
   "source": [
    "pickle.dump(new,open('movie_list.pkl','wb'))\n",
    "pickle.dump(similarity,open('similarity.pkl','wb'))"
   ]
  }
 ],
 "metadata": {
  "kaggle": {
   "accelerator": "none",
   "dataSources": [
    {
     "datasetId": 138,
     "sourceId": 4508,
     "sourceType": "datasetVersion"
    }
   ],
   "dockerImageVersionId": 31089,
   "isGpuEnabled": false,
   "isInternetEnabled": true,
   "language": "python",
   "sourceType": "notebook"
  },
  "kernelspec": {
   "display_name": "Python 3",
   "language": "python",
   "name": "python3"
  },
  "language_info": {
   "codemirror_mode": {
    "name": "ipython",
    "version": 3
   },
   "file_extension": ".py",
   "mimetype": "text/x-python",
   "name": "python",
   "nbconvert_exporter": "python",
   "pygments_lexer": "ipython3",
   "version": "3.11.13"
  },
  "papermill": {
   "default_parameters": {},
   "duration": 22.949155,
   "end_time": "2025-07-23T15:54:00.063814",
   "environment_variables": {},
   "exception": null,
   "input_path": "__notebook__.ipynb",
   "output_path": "__notebook__.ipynb",
   "parameters": {},
   "start_time": "2025-07-23T15:53:37.114659",
   "version": "2.6.0"
  }
 },
 "nbformat": 4,
 "nbformat_minor": 5
}
